{
 "cells": [
  {
   "cell_type": "markdown",
   "id": "c88a9c5e-4f92-4d76-9bb9-8958ab008360",
   "metadata": {},
   "source": [
    "# NumPy\n",
    "Numeric Python\n",
    "* Collection of values\n",
    "* NumPy arrays are substitute of lists but can not contain different type of data in a single array\n",
    "* Easy and fast numeric operations"
   ]
  },
  {
   "cell_type": "markdown",
   "id": "2c8a0790-4c10-407d-b52d-308954aa2230",
   "metadata": {},
   "source": [
    "### Usefulness"
   ]
  },
  {
   "cell_type": "code",
   "execution_count": 4,
   "id": "51ac7859-5d86-4d65-b58e-7e15e6c575b9",
   "metadata": {},
   "outputs": [],
   "source": [
    "height = 1.8\n",
    "weight = 50"
   ]
  },
  {
   "cell_type": "code",
   "execution_count": 5,
   "id": "b37f69bc-4806-4ef2-95a2-291687fb245b",
   "metadata": {},
   "outputs": [],
   "source": [
    "bmi = weight / height ** 2"
   ]
  },
  {
   "cell_type": "code",
   "execution_count": 6,
   "id": "9b589bee-cb2c-4d4f-b943-624a1259e6ea",
   "metadata": {},
   "outputs": [
    {
     "data": {
      "text/plain": [
       "15.432098765432098"
      ]
     },
     "execution_count": 6,
     "metadata": {},
     "output_type": "execute_result"
    }
   ],
   "source": [
    "bmi"
   ]
  },
  {
   "cell_type": "code",
   "execution_count": 2,
   "id": "7e802d2a-14d8-4ce1-8972-929c14bd8f09",
   "metadata": {},
   "outputs": [],
   "source": [
    "height = [1.73, 1.68, 1.71, 1.89, 1.79]\n",
    "weight = [65.4, 59.2, 63.6, 88.4, 68.7]"
   ]
  },
  {
   "cell_type": "code",
   "execution_count": 11,
   "id": "11d5c169-1a10-45cb-95a7-3c3b5f4ce299",
   "metadata": {},
   "outputs": [
    {
     "ename": "TypeError",
     "evalue": "unsupported operand type(s) for ** or pow(): 'list' and 'int'",
     "output_type": "error",
     "traceback": [
      "\u001b[1;31m---------------------------------------------------------------------------\u001b[0m",
      "\u001b[1;31mTypeError\u001b[0m                                 Traceback (most recent call last)",
      "Cell \u001b[1;32mIn[11], line 1\u001b[0m\n\u001b[1;32m----> 1\u001b[0m weight \u001b[38;5;241m/\u001b[39m height \u001b[38;5;241m*\u001b[39m\u001b[38;5;241m*\u001b[39m \u001b[38;5;241m2\u001b[39m\n",
      "\u001b[1;31mTypeError\u001b[0m: unsupported operand type(s) for ** or pow(): 'list' and 'int'"
     ]
    }
   ],
   "source": [
    "weight / height ** 2"
   ]
  },
  {
   "cell_type": "code",
   "execution_count": 6,
   "id": "69521aa9-4a8f-4519-b878-6b5a9741d575",
   "metadata": {},
   "outputs": [],
   "source": [
    "import numpy as np"
   ]
  },
  {
   "cell_type": "code",
   "execution_count": 17,
   "id": "ca016d57-1c56-4bc6-a23c-2d2e4d97ff77",
   "metadata": {},
   "outputs": [],
   "source": [
    "#pip! install numpy"
   ]
  },
  {
   "cell_type": "code",
   "execution_count": 7,
   "id": "86d535e8-19dd-4833-9b19-353cee9475cf",
   "metadata": {},
   "outputs": [],
   "source": [
    "np_height = np.array(height)\n",
    "np_weight = np.array(weight)"
   ]
  },
  {
   "cell_type": "code",
   "execution_count": 8,
   "id": "9f7de6fb-a102-4568-a446-98ae301016a8",
   "metadata": {},
   "outputs": [
    {
     "data": {
      "text/plain": [
       "numpy.ndarray"
      ]
     },
     "execution_count": 8,
     "metadata": {},
     "output_type": "execute_result"
    }
   ],
   "source": [
    "type(np_height)"
   ]
  },
  {
   "cell_type": "code",
   "execution_count": 9,
   "id": "40df6562-4b95-4466-9f94-b8782b5a533e",
   "metadata": {},
   "outputs": [
    {
     "data": {
      "text/plain": [
       "list"
      ]
     },
     "execution_count": 9,
     "metadata": {},
     "output_type": "execute_result"
    }
   ],
   "source": [
    "type(height)"
   ]
  },
  {
   "cell_type": "code",
   "execution_count": 10,
   "id": "224ec48d-a42b-4aba-a55f-252d0d82990d",
   "metadata": {},
   "outputs": [],
   "source": [
    "np_bmi = np_weight / np_height ** 2"
   ]
  },
  {
   "cell_type": "code",
   "execution_count": 12,
   "id": "65aed2ef-ef99-4ae2-98ad-3147adfa91bd",
   "metadata": {},
   "outputs": [
    {
     "data": {
      "text/plain": [
       "[21.85171572722109,\n",
       " 20.97505668934241,\n",
       " 21.750282138093777,\n",
       " 24.74734749867025,\n",
       " 21.44127836209856]"
      ]
     },
     "execution_count": 12,
     "metadata": {},
     "output_type": "execute_result"
    }
   ],
   "source": [
    "list(np_bmi)"
   ]
  },
  {
   "cell_type": "markdown",
   "id": "56ba3977-cdb5-49ce-943e-af28ede4c20c",
   "metadata": {},
   "source": [
    "#### Difference from lists"
   ]
  },
  {
   "cell_type": "code",
   "execution_count": 13,
   "id": "396d23b2-56ab-451c-884c-bb4f15d943ab",
   "metadata": {},
   "outputs": [
    {
     "data": {
      "text/plain": [
       "array(['1.0', 'is', 'True'], dtype='<U32')"
      ]
     },
     "execution_count": 13,
     "metadata": {},
     "output_type": "execute_result"
    }
   ],
   "source": [
    "np.array([1.0, \"is\", True])  # Array contains only one type of data"
   ]
  },
  {
   "cell_type": "code",
   "execution_count": 14,
   "id": "e4d2ca63-adfc-49c4-8c7a-6024ff5edb7a",
   "metadata": {},
   "outputs": [],
   "source": [
    "list_1 = [1, 2, 3]\n",
    "list_2 = [4, 5, 6]"
   ]
  },
  {
   "cell_type": "code",
   "execution_count": 15,
   "id": "fc929fad-22bd-40f9-a4a7-e22a7b6d1c3c",
   "metadata": {},
   "outputs": [
    {
     "data": {
      "text/plain": [
       "[1, 2, 3, 4, 5, 6]"
      ]
     },
     "execution_count": 15,
     "metadata": {},
     "output_type": "execute_result"
    }
   ],
   "source": [
    "list_1 + list_2"
   ]
  },
  {
   "cell_type": "code",
   "execution_count": 16,
   "id": "b7600570-46e5-4206-a2fc-4bbe671dc07b",
   "metadata": {},
   "outputs": [],
   "source": [
    "summed = [list_1[0] + list_2[0], list_1[1] + list_2[1], list_1[2] + list_2[2]]"
   ]
  },
  {
   "cell_type": "code",
   "execution_count": 17,
   "id": "bad07904-2177-44dc-86b9-638a6d8a32ec",
   "metadata": {},
   "outputs": [
    {
     "data": {
      "text/plain": [
       "[5, 7, 9]"
      ]
     },
     "execution_count": 17,
     "metadata": {},
     "output_type": "execute_result"
    }
   ],
   "source": [
    "summed"
   ]
  },
  {
   "cell_type": "code",
   "execution_count": 18,
   "id": "70ebe06e-bd5f-499a-9651-b46589e25140",
   "metadata": {},
   "outputs": [
    {
     "name": "stdout",
     "output_type": "stream",
     "text": [
      "[5, 7, 9]\n"
     ]
    }
   ],
   "source": [
    "summed_loop = []\n",
    "for i,v in enumerate(list_1): \n",
    "    for j,m in enumerate(list_2):\n",
    "        if i == j:\n",
    "            sum_up = v + m\n",
    "            summed_loop.append(sum_up)\n",
    "print(summed_loop)"
   ]
  },
  {
   "cell_type": "code",
   "execution_count": 19,
   "id": "c3c53ff9-075f-499d-b8c5-df6a969f9ab2",
   "metadata": {},
   "outputs": [],
   "source": [
    "array_1 = np.array(list_1)  # Arrays adds up the values\n",
    "array_2 = np.array(list_2)"
   ]
  },
  {
   "cell_type": "code",
   "execution_count": 23,
   "id": "d89c5524-de5c-4e2c-8229-de47871af002",
   "metadata": {},
   "outputs": [
    {
     "data": {
      "text/plain": [
       "array([ 4, 10, 18])"
      ]
     },
     "execution_count": 23,
     "metadata": {},
     "output_type": "execute_result"
    }
   ],
   "source": [
    "array_1 * array_2"
   ]
  },
  {
   "cell_type": "code",
   "execution_count": 21,
   "id": "2368153e-59e3-4d61-aa0e-d72f16f91388",
   "metadata": {},
   "outputs": [
    {
     "data": {
      "text/plain": [
       "numpy.ndarray"
      ]
     },
     "execution_count": 21,
     "metadata": {},
     "output_type": "execute_result"
    }
   ],
   "source": [
    "type(array_1)"
   ]
  },
  {
   "cell_type": "markdown",
   "id": "86ed0a39-cf27-445a-8990-0e12454ac5f5",
   "metadata": {},
   "source": [
    "### 2D NumPy Arrays"
   ]
  },
  {
   "cell_type": "code",
   "execution_count": 24,
   "id": "5a4b4c3e-225b-4100-9d08-4a486b8fb4d6",
   "metadata": {},
   "outputs": [],
   "source": [
    "np_2d = np.array([[1.73, 1.68, 1.71, 1.89, 1.79], [65.4, 59.2, 63.6, 88.4, 68.7]])"
   ]
  },
  {
   "cell_type": "code",
   "execution_count": 25,
   "id": "8c0566ec-423b-4bb3-b5f7-b38bf630ec4c",
   "metadata": {},
   "outputs": [
    {
     "data": {
      "text/plain": [
       "array([[ 1.73,  1.68,  1.71,  1.89,  1.79],\n",
       "       [65.4 , 59.2 , 63.6 , 88.4 , 68.7 ]])"
      ]
     },
     "execution_count": 25,
     "metadata": {},
     "output_type": "execute_result"
    }
   ],
   "source": [
    "np_2d"
   ]
  },
  {
   "cell_type": "code",
   "execution_count": 26,
   "id": "857b515f-ec93-4044-af03-423b4b458c58",
   "metadata": {},
   "outputs": [
    {
     "data": {
      "text/plain": [
       "(2, 5)"
      ]
     },
     "execution_count": 26,
     "metadata": {},
     "output_type": "execute_result"
    }
   ],
   "source": [
    "np_2d.shape"
   ]
  },
  {
   "cell_type": "code",
   "execution_count": 33,
   "id": "d381a5cb-0c55-426f-9a7c-ea5965e5aa34",
   "metadata": {},
   "outputs": [
    {
     "data": {
      "text/plain": [
       "array([1.73, 1.68, 1.71, 1.89, 1.79])"
      ]
     },
     "execution_count": 33,
     "metadata": {},
     "output_type": "execute_result"
    }
   ],
   "source": [
    "np_2d[0]"
   ]
  },
  {
   "cell_type": "code",
   "execution_count": 27,
   "id": "73f7e379-9949-42b5-87ba-ff63a3a888a1",
   "metadata": {},
   "outputs": [
    {
     "data": {
      "text/plain": [
       "1.68"
      ]
     },
     "execution_count": 27,
     "metadata": {},
     "output_type": "execute_result"
    }
   ],
   "source": [
    "np_2d[0][1]"
   ]
  },
  {
   "cell_type": "code",
   "execution_count": 28,
   "id": "03d7b087-5252-4d72-a2a0-c82b99ccc568",
   "metadata": {},
   "outputs": [
    {
     "data": {
      "text/plain": [
       "1.68"
      ]
     },
     "execution_count": 28,
     "metadata": {},
     "output_type": "execute_result"
    }
   ],
   "source": [
    "np_2d[0,1]  # works wither way"
   ]
  },
  {
   "cell_type": "code",
   "execution_count": 30,
   "id": "3016b544-6c94-46a1-9f32-54305f661fa0",
   "metadata": {},
   "outputs": [],
   "source": [
    "a = np_2d[:,1:3]"
   ]
  },
  {
   "cell_type": "code",
   "execution_count": 31,
   "id": "77e2451b-7458-4742-b77c-a514d3da4173",
   "metadata": {},
   "outputs": [
    {
     "data": {
      "text/plain": [
       "array([[ 1.68,  1.71],\n",
       "       [59.2 , 63.6 ]])"
      ]
     },
     "execution_count": 31,
     "metadata": {},
     "output_type": "execute_result"
    }
   ],
   "source": [
    "a"
   ]
  },
  {
   "cell_type": "code",
   "execution_count": 32,
   "id": "7b812764-754e-4aaa-8d51-35954e30b4c6",
   "metadata": {},
   "outputs": [
    {
     "data": {
      "text/plain": [
       "array([65.4, 59.2, 63.6, 88.4, 68.7])"
      ]
     },
     "execution_count": 32,
     "metadata": {},
     "output_type": "execute_result"
    }
   ],
   "source": [
    "np_2d[1, :]"
   ]
  },
  {
   "cell_type": "code",
   "execution_count": 33,
   "id": "7cdd07a5-b14e-405e-abe6-b6bd4c6173a1",
   "metadata": {},
   "outputs": [],
   "source": [
    "np_3d = np.array([[1.73, 1.68, 1.71, 1.89, 1.79], [65.4, 59.2, 63.6, 88.4, 68.7], [10, 20, 30, 40, 50]])"
   ]
  },
  {
   "cell_type": "code",
   "execution_count": 34,
   "id": "c8530324-114f-498d-9dd6-dc0528213ce5",
   "metadata": {},
   "outputs": [
    {
     "data": {
      "text/plain": [
       "array([[ 1.73,  1.68,  1.71,  1.89,  1.79],\n",
       "       [65.4 , 59.2 , 63.6 , 88.4 , 68.7 ],\n",
       "       [10.  , 20.  , 30.  , 40.  , 50.  ]])"
      ]
     },
     "execution_count": 34,
     "metadata": {},
     "output_type": "execute_result"
    }
   ],
   "source": [
    "np_3d"
   ]
  },
  {
   "cell_type": "code",
   "execution_count": 37,
   "id": "4649a83c-0cfa-4683-968e-63bce34de4f0",
   "metadata": {},
   "outputs": [
    {
     "data": {
      "text/plain": [
       "array([[1.71, 1.89]])"
      ]
     },
     "execution_count": 37,
     "metadata": {},
     "output_type": "execute_result"
    }
   ],
   "source": [
    "np_3d[:1, 2:4]"
   ]
  },
  {
   "cell_type": "markdown",
   "id": "d51487a8-eb1a-481b-850b-d7ef85d3d742",
   "metadata": {},
   "source": [
    "### Generating datasets"
   ]
  },
  {
   "cell_type": "markdown",
   "id": "66468d9a-8a59-4d65-b449-631be874d898",
   "metadata": {},
   "source": [
    "Simulating a dataset of height and weight of all the residents in a city. Suppose the population of this city is 5000."
   ]
  },
  {
   "cell_type": "code",
   "execution_count": 39,
   "id": "9aeaefa7-a827-450c-baf9-e76fc9bd4a10",
   "metadata": {},
   "outputs": [],
   "source": [
    "height = np.round(np.random.normal(1.75, 0.20, 5000), 2)"
   ]
  },
  {
   "cell_type": "code",
   "execution_count": 40,
   "id": "dad6d22c-e493-4660-8564-62609ef2f5c8",
   "metadata": {},
   "outputs": [
    {
     "data": {
      "text/plain": [
       "array([1.31, 1.89, 1.67, ..., 1.25, 1.84, 1.39])"
      ]
     },
     "execution_count": 40,
     "metadata": {},
     "output_type": "execute_result"
    }
   ],
   "source": [
    "height"
   ]
  },
  {
   "cell_type": "code",
   "execution_count": 41,
   "id": "a33d7b2f-4406-4778-9df4-111cfcc38ae5",
   "metadata": {},
   "outputs": [
    {
     "data": {
      "text/plain": [
       "5000"
      ]
     },
     "execution_count": 41,
     "metadata": {},
     "output_type": "execute_result"
    }
   ],
   "source": [
    "len(height)"
   ]
  },
  {
   "cell_type": "code",
   "execution_count": 42,
   "id": "9866da98-8105-4215-980b-f46dd1b2ca30",
   "metadata": {},
   "outputs": [],
   "source": [
    "weight = np.round(np.random.normal(60.32, 15, 5000), 2)"
   ]
  },
  {
   "cell_type": "code",
   "execution_count": 44,
   "id": "e3e732de-5eb8-4b3b-9fc5-53195ddbbc65",
   "metadata": {},
   "outputs": [],
   "source": [
    "np_city = np.column_stack((height, weight))"
   ]
  },
  {
   "cell_type": "code",
   "execution_count": 45,
   "id": "cc1a0009-2962-4cfb-b7a4-54ac63b2b6b3",
   "metadata": {},
   "outputs": [
    {
     "data": {
      "text/plain": [
       "array([[ 1.31, 64.28],\n",
       "       [ 1.89, 76.44],\n",
       "       [ 1.67, 86.42],\n",
       "       ...,\n",
       "       [ 1.25, 62.03],\n",
       "       [ 1.84, 61.1 ],\n",
       "       [ 1.39, 79.22]])"
      ]
     },
     "execution_count": 45,
     "metadata": {},
     "output_type": "execute_result"
    }
   ],
   "source": [
    "np_city"
   ]
  },
  {
   "cell_type": "markdown",
   "id": "998e67e5-f617-4325-ae6a-6b724acb2ef4",
   "metadata": {},
   "source": [
    "##### 1. What are the mean, median, and standard deviation of the height of the people in the city?"
   ]
  },
  {
   "cell_type": "code",
   "execution_count": 48,
   "id": "057d8a22-de4c-425d-bb98-689590932f75",
   "metadata": {},
   "outputs": [
    {
     "data": {
      "text/plain": [
       "array([1.31, 1.89, 1.67, ..., 1.25, 1.84, 1.39])"
      ]
     },
     "execution_count": 48,
     "metadata": {},
     "output_type": "execute_result"
    }
   ],
   "source": [
    "np_city[:, 0]"
   ]
  },
  {
   "cell_type": "code",
   "execution_count": 50,
   "id": "e319949c-751e-429d-8a7c-2360f39325ee",
   "metadata": {},
   "outputs": [],
   "source": [
    "np_height = np.array(np_city[:,0])"
   ]
  },
  {
   "cell_type": "code",
   "execution_count": 51,
   "id": "c3bbbdcd-d90e-4b00-8c57-dcd17cdc55a1",
   "metadata": {},
   "outputs": [
    {
     "data": {
      "text/plain": [
       "1.7461"
      ]
     },
     "execution_count": 51,
     "metadata": {},
     "output_type": "execute_result"
    }
   ],
   "source": [
    "np.mean(np_height)"
   ]
  },
  {
   "cell_type": "code",
   "execution_count": 52,
   "id": "18392726-9fab-4d1c-b9fe-687db3084455",
   "metadata": {},
   "outputs": [
    {
     "data": {
      "text/plain": [
       "1.75"
      ]
     },
     "execution_count": 52,
     "metadata": {},
     "output_type": "execute_result"
    }
   ],
   "source": [
    "np.median(np_height)"
   ]
  },
  {
   "cell_type": "code",
   "execution_count": 52,
   "id": "49a021df-65a1-41e0-9ebc-1026b1c302cf",
   "metadata": {},
   "outputs": [
    {
     "name": "stdout",
     "output_type": "stream",
     "text": [
      "1.75\n"
     ]
    }
   ],
   "source": [
    "print(np.median(np_height))"
   ]
  },
  {
   "cell_type": "code",
   "execution_count": 53,
   "id": "68285ea5-bbba-484c-96a1-dab632c7bac4",
   "metadata": {},
   "outputs": [
    {
     "name": "stdout",
     "output_type": "stream",
     "text": [
      "0.19753873884380246\n"
     ]
    }
   ],
   "source": [
    "print(np.std(np_height))"
   ]
  },
  {
   "cell_type": "markdown",
   "id": "707a9515-6e22-4075-afe1-d93203c23216",
   "metadata": {},
   "source": [
    "##### 2. Is there any correlation between height and weight?"
   ]
  },
  {
   "cell_type": "code",
   "execution_count": 55,
   "id": "0d50f5f0-3f60-4159-87b0-b51e7f4e9773",
   "metadata": {},
   "outputs": [],
   "source": [
    "corr = np.corrcoef(np_city[:,0], np_city[:,1])"
   ]
  },
  {
   "cell_type": "code",
   "execution_count": 56,
   "id": "e459bdc3-41b9-4b43-b412-00d2b03e147d",
   "metadata": {},
   "outputs": [
    {
     "data": {
      "text/plain": [
       "array([[ 1.        , -0.00227708],\n",
       "       [-0.00227708,  1.        ]])"
      ]
     },
     "execution_count": 56,
     "metadata": {},
     "output_type": "execute_result"
    }
   ],
   "source": [
    "corr"
   ]
  },
  {
   "cell_type": "markdown",
   "id": "ca08a4de-9258-4504-8155-a48aecdbf711",
   "metadata": {},
   "source": [
    "### Exploring AppleStore data file with NumPy array:"
   ]
  },
  {
   "cell_type": "code",
   "execution_count": 57,
   "id": "fb12dd33-82c9-45fa-9820-5b7e3bf84aab",
   "metadata": {},
   "outputs": [],
   "source": [
    "from csv import reader"
   ]
  },
  {
   "cell_type": "code",
   "execution_count": 58,
   "id": "460a005e-febd-4f2c-9007-c2e2a4620a98",
   "metadata": {},
   "outputs": [],
   "source": [
    "opened_file = open('AppleStore.csv', encoding='utf-8')\n",
    "read_file = reader(opened_file)\n",
    "apps_data = list(read_file)"
   ]
  },
  {
   "cell_type": "code",
   "execution_count": 59,
   "id": "390d741c-3db3-4577-ab19-542b273e38ac",
   "metadata": {},
   "outputs": [
    {
     "data": {
      "text/plain": [
       "list"
      ]
     },
     "execution_count": 59,
     "metadata": {},
     "output_type": "execute_result"
    }
   ],
   "source": [
    "type(apps_data)"
   ]
  },
  {
   "cell_type": "code",
   "execution_count": 61,
   "id": "00470422-6176-4815-a2df-1ac1ba31c291",
   "metadata": {},
   "outputs": [],
   "source": [
    "apps = np.array(apps_data)"
   ]
  },
  {
   "cell_type": "code",
   "execution_count": 62,
   "id": "8fc4cb57-28a9-4717-bd1d-d35d8b56cdcc",
   "metadata": {},
   "outputs": [
    {
     "data": {
      "text/plain": [
       "array([['id', 'track_name', 'size_bytes', ..., 'ipadSc_urls.num',\n",
       "        'lang.num', 'vpp_lic'],\n",
       "       ['284882215', 'Facebook', '389879808', ..., '1', '29', '1'],\n",
       "       ['389801252', 'Instagram', '113954816', ..., '0', '29', '1'],\n",
       "       ...,\n",
       "       ['1070052833', 'Go!Go!Cat!', '91468800', ..., '2', '2', '1'],\n",
       "       ['1081295232', 'Suppin Detective: Expose their true visage!',\n",
       "        '83026944', ..., '0', '1', '1'],\n",
       "       ['977965019', 'みんなのお弁当 by クックパッド ~お弁当をレシピ付きで記録・共有~', '51174400',\n",
       "        ..., '0', '1', '1']], dtype='<U232')"
      ]
     },
     "execution_count": 62,
     "metadata": {},
     "output_type": "execute_result"
    }
   ],
   "source": [
    "apps"
   ]
  },
  {
   "cell_type": "code",
   "execution_count": 72,
   "id": "c1440958-6116-4aa7-a282-2afafa299e89",
   "metadata": {},
   "outputs": [
    {
     "data": {
      "text/plain": [
       "['id',\n",
       " 'track_name',\n",
       " 'size_bytes',\n",
       " 'currency',\n",
       " 'price',\n",
       " 'rating_count_tot',\n",
       " 'rating_count_ver',\n",
       " 'user_rating',\n",
       " 'user_rating_ver',\n",
       " 'ver',\n",
       " 'cont_rating',\n",
       " 'prime_genre',\n",
       " 'sup_devices.num',\n",
       " 'ipadSc_urls.num',\n",
       " 'lang.num',\n",
       " 'vpp_lic']"
      ]
     },
     "execution_count": 72,
     "metadata": {},
     "output_type": "execute_result"
    }
   ],
   "source": [
    "apps_data[0]"
   ]
  },
  {
   "cell_type": "code",
   "execution_count": 63,
   "id": "d6839a45-380e-4ed1-9044-da0b6aa4687e",
   "metadata": {},
   "outputs": [],
   "source": [
    "rating = np.array(apps[1:,7])"
   ]
  },
  {
   "cell_type": "code",
   "execution_count": 64,
   "id": "03956579-d83f-462f-9963-c47e2ddc4c22",
   "metadata": {},
   "outputs": [
    {
     "data": {
      "text/plain": [
       "array(['3.5', '4.5', '4.5', ..., '0', '0', '0'], dtype='<U232')"
      ]
     },
     "execution_count": 64,
     "metadata": {},
     "output_type": "execute_result"
    }
   ],
   "source": [
    "rating"
   ]
  },
  {
   "cell_type": "code",
   "execution_count": 65,
   "id": "78c2c71f-6a29-4c76-8f1d-a33b001f44f5",
   "metadata": {},
   "outputs": [],
   "source": [
    "price = np.array(apps[1:, 4])"
   ]
  },
  {
   "cell_type": "code",
   "execution_count": 66,
   "id": "78752987-389e-4a52-a4ee-094d1ce9aabd",
   "metadata": {},
   "outputs": [
    {
     "data": {
      "text/plain": [
       "array(['0', '0', '0', ..., '0', '0', '0'], dtype='<U232')"
      ]
     },
     "execution_count": 66,
     "metadata": {},
     "output_type": "execute_result"
    }
   ],
   "source": [
    "price"
   ]
  },
  {
   "cell_type": "code",
   "execution_count": 67,
   "id": "98e5c34e-0bed-4b39-af4e-80fb3533cc9c",
   "metadata": {},
   "outputs": [
    {
     "ename": "UFuncTypeError",
     "evalue": "ufunc 'add' did not contain a loop with signature matching types (dtype('<U232'), dtype('<U232')) -> None",
     "output_type": "error",
     "traceback": [
      "\u001b[1;31m---------------------------------------------------------------------------\u001b[0m",
      "\u001b[1;31mUFuncTypeError\u001b[0m                            Traceback (most recent call last)",
      "Cell \u001b[1;32mIn[67], line 1\u001b[0m\n\u001b[1;32m----> 1\u001b[0m np\u001b[38;5;241m.\u001b[39mmean(price)\n",
      "File \u001b[1;32m~\\anaconda3\\Lib\\site-packages\\numpy\\core\\fromnumeric.py:3504\u001b[0m, in \u001b[0;36mmean\u001b[1;34m(a, axis, dtype, out, keepdims, where)\u001b[0m\n\u001b[0;32m   3501\u001b[0m     \u001b[38;5;28;01melse\u001b[39;00m:\n\u001b[0;32m   3502\u001b[0m         \u001b[38;5;28;01mreturn\u001b[39;00m mean(axis\u001b[38;5;241m=\u001b[39maxis, dtype\u001b[38;5;241m=\u001b[39mdtype, out\u001b[38;5;241m=\u001b[39mout, \u001b[38;5;241m*\u001b[39m\u001b[38;5;241m*\u001b[39mkwargs)\n\u001b[1;32m-> 3504\u001b[0m \u001b[38;5;28;01mreturn\u001b[39;00m _methods\u001b[38;5;241m.\u001b[39m_mean(a, axis\u001b[38;5;241m=\u001b[39maxis, dtype\u001b[38;5;241m=\u001b[39mdtype,\n\u001b[0;32m   3505\u001b[0m                       out\u001b[38;5;241m=\u001b[39mout, \u001b[38;5;241m*\u001b[39m\u001b[38;5;241m*\u001b[39mkwargs)\n",
      "File \u001b[1;32m~\\anaconda3\\Lib\\site-packages\\numpy\\core\\_methods.py:118\u001b[0m, in \u001b[0;36m_mean\u001b[1;34m(a, axis, dtype, out, keepdims, where)\u001b[0m\n\u001b[0;32m    115\u001b[0m         dtype \u001b[38;5;241m=\u001b[39m mu\u001b[38;5;241m.\u001b[39mdtype(\u001b[38;5;124m'\u001b[39m\u001b[38;5;124mf4\u001b[39m\u001b[38;5;124m'\u001b[39m)\n\u001b[0;32m    116\u001b[0m         is_float16_result \u001b[38;5;241m=\u001b[39m \u001b[38;5;28;01mTrue\u001b[39;00m\n\u001b[1;32m--> 118\u001b[0m ret \u001b[38;5;241m=\u001b[39m umr_sum(arr, axis, dtype, out, keepdims, where\u001b[38;5;241m=\u001b[39mwhere)\n\u001b[0;32m    119\u001b[0m \u001b[38;5;28;01mif\u001b[39;00m \u001b[38;5;28misinstance\u001b[39m(ret, mu\u001b[38;5;241m.\u001b[39mndarray):\n\u001b[0;32m    120\u001b[0m     \u001b[38;5;28;01mwith\u001b[39;00m _no_nep50_warning():\n",
      "\u001b[1;31mUFuncTypeError\u001b[0m: ufunc 'add' did not contain a loop with signature matching types (dtype('<U232'), dtype('<U232')) -> None"
     ]
    }
   ],
   "source": [
    "np.mean(price)"
   ]
  },
  {
   "cell_type": "code",
   "execution_count": 68,
   "id": "dfd366d2-460a-44c1-9891-a804071fffc8",
   "metadata": {},
   "outputs": [],
   "source": [
    "p =  price.astype(float) # changing data type of numpy array"
   ]
  },
  {
   "cell_type": "code",
   "execution_count": 69,
   "id": "5a15a3f8-0ef1-4948-83c5-d14b3a902029",
   "metadata": {},
   "outputs": [
    {
     "data": {
      "text/plain": [
       "array([0., 0., 0., ..., 0., 0., 0.])"
      ]
     },
     "execution_count": 69,
     "metadata": {},
     "output_type": "execute_result"
    }
   ],
   "source": [
    "p"
   ]
  },
  {
   "cell_type": "code",
   "execution_count": 70,
   "id": "c1658af6-b286-4a61-bc6e-31a7762e02f8",
   "metadata": {},
   "outputs": [
    {
     "name": "stdout",
     "output_type": "stream",
     "text": [
      "1.726217868556343\n"
     ]
    }
   ],
   "source": [
    "print(np.mean(p))"
   ]
  },
  {
   "cell_type": "code",
   "execution_count": 71,
   "id": "eb910354-e18a-4545-a8b6-3912a2e61b2f",
   "metadata": {},
   "outputs": [
    {
     "name": "stdout",
     "output_type": "stream",
     "text": [
      "0.0\n"
     ]
    }
   ],
   "source": [
    "print(np.median(p))"
   ]
  },
  {
   "cell_type": "code",
   "execution_count": 72,
   "id": "fef37333-c02d-41b9-a13e-e4b4e05cc0aa",
   "metadata": {},
   "outputs": [
    {
     "name": "stdout",
     "output_type": "stream",
     "text": [
      "5.8326005341785105\n"
     ]
    }
   ],
   "source": [
    "print(np.std(p))"
   ]
  },
  {
   "cell_type": "code",
   "execution_count": 73,
   "id": "6ea4cbee-2948-47d4-a3b5-69b3735624a7",
   "metadata": {},
   "outputs": [],
   "source": [
    "r =  rating.astype(float)"
   ]
  },
  {
   "cell_type": "code",
   "execution_count": 74,
   "id": "1bda76c0-06cf-47d1-afc2-54263e20212d",
   "metadata": {},
   "outputs": [
    {
     "name": "stdout",
     "output_type": "stream",
     "text": [
      "3.526955675976101\n"
     ]
    }
   ],
   "source": [
    "print(np.mean(r))"
   ]
  },
  {
   "cell_type": "code",
   "execution_count": 75,
   "id": "46f5eef4-cb7c-4d89-a108-6fc68cec0a0c",
   "metadata": {},
   "outputs": [
    {
     "name": "stdout",
     "output_type": "stream",
     "text": [
      "[[1.       0.046601]\n",
      " [0.046601 1.      ]]\n"
     ]
    }
   ],
   "source": [
    "print(np.corrcoef(p, r))"
   ]
  },
  {
   "cell_type": "code",
   "execution_count": 87,
   "id": "acfc2449-370c-4637-abda-25f634d1095b",
   "metadata": {},
   "outputs": [
    {
     "ename": "UFuncTypeError",
     "evalue": "ufunc 'add' did not contain a loop with signature matching types (dtype('<U232'), dtype('<U232')) -> None",
     "output_type": "error",
     "traceback": [
      "\u001b[1;31m---------------------------------------------------------------------------\u001b[0m",
      "\u001b[1;31mUFuncTypeError\u001b[0m                            Traceback (most recent call last)",
      "Cell \u001b[1;32mIn[87], line 1\u001b[0m\n\u001b[1;32m----> 1\u001b[0m \u001b[38;5;28mprint\u001b[39m(np\u001b[38;5;241m.\u001b[39mcorrcoef(apps[\u001b[38;5;241m1\u001b[39m:,\u001b[38;5;241m4\u001b[39m], apps[\u001b[38;5;241m1\u001b[39m:,\u001b[38;5;241m7\u001b[39m]))\n",
      "File \u001b[1;32m~\\anaconda3\\Lib\\site-packages\\numpy\\lib\\function_base.py:2889\u001b[0m, in \u001b[0;36mcorrcoef\u001b[1;34m(x, y, rowvar, bias, ddof, dtype)\u001b[0m\n\u001b[0;32m   2885\u001b[0m \u001b[38;5;28;01mif\u001b[39;00m bias \u001b[38;5;129;01mis\u001b[39;00m \u001b[38;5;129;01mnot\u001b[39;00m np\u001b[38;5;241m.\u001b[39m_NoValue \u001b[38;5;129;01mor\u001b[39;00m ddof \u001b[38;5;129;01mis\u001b[39;00m \u001b[38;5;129;01mnot\u001b[39;00m np\u001b[38;5;241m.\u001b[39m_NoValue:\n\u001b[0;32m   2886\u001b[0m     \u001b[38;5;66;03m# 2015-03-15, 1.10\u001b[39;00m\n\u001b[0;32m   2887\u001b[0m     warnings\u001b[38;5;241m.\u001b[39mwarn(\u001b[38;5;124m'\u001b[39m\u001b[38;5;124mbias and ddof have no effect and are deprecated\u001b[39m\u001b[38;5;124m'\u001b[39m,\n\u001b[0;32m   2888\u001b[0m                   \u001b[38;5;167;01mDeprecationWarning\u001b[39;00m, stacklevel\u001b[38;5;241m=\u001b[39m\u001b[38;5;241m2\u001b[39m)\n\u001b[1;32m-> 2889\u001b[0m c \u001b[38;5;241m=\u001b[39m cov(x, y, rowvar, dtype\u001b[38;5;241m=\u001b[39mdtype)\n\u001b[0;32m   2890\u001b[0m \u001b[38;5;28;01mtry\u001b[39;00m:\n\u001b[0;32m   2891\u001b[0m     d \u001b[38;5;241m=\u001b[39m diag(c)\n",
      "File \u001b[1;32m~\\anaconda3\\Lib\\site-packages\\numpy\\lib\\function_base.py:2724\u001b[0m, in \u001b[0;36mcov\u001b[1;34m(m, y, rowvar, bias, ddof, fweights, aweights, dtype)\u001b[0m\n\u001b[0;32m   2721\u001b[0m     \u001b[38;5;28;01melse\u001b[39;00m:\n\u001b[0;32m   2722\u001b[0m         w \u001b[38;5;241m*\u001b[39m\u001b[38;5;241m=\u001b[39m aweights\n\u001b[1;32m-> 2724\u001b[0m avg, w_sum \u001b[38;5;241m=\u001b[39m average(X, axis\u001b[38;5;241m=\u001b[39m\u001b[38;5;241m1\u001b[39m, weights\u001b[38;5;241m=\u001b[39mw, returned\u001b[38;5;241m=\u001b[39m\u001b[38;5;28;01mTrue\u001b[39;00m)\n\u001b[0;32m   2725\u001b[0m w_sum \u001b[38;5;241m=\u001b[39m w_sum[\u001b[38;5;241m0\u001b[39m]\n\u001b[0;32m   2727\u001b[0m \u001b[38;5;66;03m# Determine the normalization\u001b[39;00m\n",
      "File \u001b[1;32m~\\anaconda3\\Lib\\site-packages\\numpy\\lib\\function_base.py:520\u001b[0m, in \u001b[0;36maverage\u001b[1;34m(a, axis, weights, returned, keepdims)\u001b[0m\n\u001b[0;32m    517\u001b[0m     keepdims_kw \u001b[38;5;241m=\u001b[39m {\u001b[38;5;124m'\u001b[39m\u001b[38;5;124mkeepdims\u001b[39m\u001b[38;5;124m'\u001b[39m: keepdims}\n\u001b[0;32m    519\u001b[0m \u001b[38;5;28;01mif\u001b[39;00m weights \u001b[38;5;129;01mis\u001b[39;00m \u001b[38;5;28;01mNone\u001b[39;00m:\n\u001b[1;32m--> 520\u001b[0m     avg \u001b[38;5;241m=\u001b[39m a\u001b[38;5;241m.\u001b[39mmean(axis, \u001b[38;5;241m*\u001b[39m\u001b[38;5;241m*\u001b[39mkeepdims_kw)\n\u001b[0;32m    521\u001b[0m     avg_as_array \u001b[38;5;241m=\u001b[39m np\u001b[38;5;241m.\u001b[39masanyarray(avg)\n\u001b[0;32m    522\u001b[0m     scl \u001b[38;5;241m=\u001b[39m avg_as_array\u001b[38;5;241m.\u001b[39mdtype\u001b[38;5;241m.\u001b[39mtype(a\u001b[38;5;241m.\u001b[39msize\u001b[38;5;241m/\u001b[39mavg_as_array\u001b[38;5;241m.\u001b[39msize)\n",
      "File \u001b[1;32m~\\anaconda3\\Lib\\site-packages\\numpy\\core\\_methods.py:118\u001b[0m, in \u001b[0;36m_mean\u001b[1;34m(a, axis, dtype, out, keepdims, where)\u001b[0m\n\u001b[0;32m    115\u001b[0m         dtype \u001b[38;5;241m=\u001b[39m mu\u001b[38;5;241m.\u001b[39mdtype(\u001b[38;5;124m'\u001b[39m\u001b[38;5;124mf4\u001b[39m\u001b[38;5;124m'\u001b[39m)\n\u001b[0;32m    116\u001b[0m         is_float16_result \u001b[38;5;241m=\u001b[39m \u001b[38;5;28;01mTrue\u001b[39;00m\n\u001b[1;32m--> 118\u001b[0m ret \u001b[38;5;241m=\u001b[39m umr_sum(arr, axis, dtype, out, keepdims, where\u001b[38;5;241m=\u001b[39mwhere)\n\u001b[0;32m    119\u001b[0m \u001b[38;5;28;01mif\u001b[39;00m \u001b[38;5;28misinstance\u001b[39m(ret, mu\u001b[38;5;241m.\u001b[39mndarray):\n\u001b[0;32m    120\u001b[0m     \u001b[38;5;28;01mwith\u001b[39;00m _no_nep50_warning():\n",
      "\u001b[1;31mUFuncTypeError\u001b[0m: ufunc 'add' did not contain a loop with signature matching types (dtype('<U232'), dtype('<U232')) -> None"
     ]
    }
   ],
   "source": [
    "print(np.corrcoef(apps[1:,4], apps[1:,7]))"
   ]
  },
  {
   "cell_type": "code",
   "execution_count": 77,
   "id": "64768fd5-ed51-4a6c-931d-9059a7ad17a6",
   "metadata": {},
   "outputs": [],
   "source": [
    "rating_price = np.column_stack((r, p))"
   ]
  },
  {
   "cell_type": "code",
   "execution_count": 78,
   "id": "fe9c690e-11cf-4e2f-9d07-a6f09a6c2ea5",
   "metadata": {},
   "outputs": [
    {
     "data": {
      "text/plain": [
       "array([[3.5, 0. ],\n",
       "       [4.5, 0. ],\n",
       "       [4.5, 0. ],\n",
       "       ...,\n",
       "       [0. , 0. ],\n",
       "       [0. , 0. ],\n",
       "       [0. , 0. ]])"
      ]
     },
     "execution_count": 78,
     "metadata": {},
     "output_type": "execute_result"
    }
   ],
   "source": [
    "rating_price"
   ]
  },
  {
   "cell_type": "code",
   "execution_count": 79,
   "id": "8bc4d490-9cc9-4fb4-bbcb-5d8aeaa490f0",
   "metadata": {},
   "outputs": [
    {
     "name": "stdout",
     "output_type": "stream",
     "text": [
      "[[1.       0.046601]\n",
      " [0.046601 1.      ]]\n"
     ]
    }
   ],
   "source": [
    "print(np.corrcoef(rating_price[:,0], rating_price[:,1]))"
   ]
  },
  {
   "cell_type": "markdown",
   "id": "102590ad-8d93-49e6-9399-638cef3d92c9",
   "metadata": {},
   "source": [
    "#### Pandas\n",
    "In the AppleStore data some colmns are numeric and some are strings. When we read it as list of lists, or as NumPy array we need to subset or slice the dataset to convert one colmns into float in order to do numeric operations. That needs more coding. Cleaning the dataset, like dropping duplicates, handling missing values is difficult in list or array method. Any kind of data file can be accessed with Pandas."
   ]
  },
  {
   "cell_type": "code",
   "execution_count": null,
   "id": "ebc94a89-2b91-4f7a-82cb-11206b3074f1",
   "metadata": {},
   "outputs": [],
   "source": [
    "#pip! install pandas"
   ]
  },
  {
   "cell_type": "code",
   "execution_count": 80,
   "id": "2cbd1cd1-5002-4c98-97d5-ae199816aec7",
   "metadata": {},
   "outputs": [],
   "source": [
    "import pandas as pd"
   ]
  },
  {
   "cell_type": "code",
   "execution_count": 81,
   "id": "e64283e3-2ade-449f-b008-37645fbf042f",
   "metadata": {},
   "outputs": [],
   "source": [
    "dict = {\n",
    "\"country\":[\"Brazil\", \"Russia\", \"India\", \"China\", \"South Africa\"],\n",
    "\"capital\":[\"Brasilia\", \"Moscow\", \"New Delhi\", \"Beijing\", \"Pretoria\"],\n",
    "\"area\":[8.516, 17.10, 3.286, 9.597, 1.221],\n",
    "\"population\":[200.4, 143.5, 1252, 1357, 52.98] }"
   ]
  },
  {
   "cell_type": "code",
   "execution_count": 84,
   "id": "2036c3f7-f210-47e9-9b2d-5ba030a909a8",
   "metadata": {},
   "outputs": [],
   "source": [
    "t = pd.DataFrame(rating_price)"
   ]
  },
  {
   "cell_type": "code",
   "execution_count": 82,
   "id": "b0e00b69-9e09-4b2a-9bba-fa625c5f91a5",
   "metadata": {},
   "outputs": [],
   "source": [
    "brics = pd.DataFrame(dict)"
   ]
  },
  {
   "cell_type": "code",
   "execution_count": 83,
   "id": "6b1bc128-4d65-41cd-b5a2-9896dbc61a38",
   "metadata": {},
   "outputs": [
    {
     "data": {
      "text/html": [
       "<div>\n",
       "<style scoped>\n",
       "    .dataframe tbody tr th:only-of-type {\n",
       "        vertical-align: middle;\n",
       "    }\n",
       "\n",
       "    .dataframe tbody tr th {\n",
       "        vertical-align: top;\n",
       "    }\n",
       "\n",
       "    .dataframe thead th {\n",
       "        text-align: right;\n",
       "    }\n",
       "</style>\n",
       "<table border=\"1\" class=\"dataframe\">\n",
       "  <thead>\n",
       "    <tr style=\"text-align: right;\">\n",
       "      <th></th>\n",
       "      <th>country</th>\n",
       "      <th>capital</th>\n",
       "      <th>area</th>\n",
       "      <th>population</th>\n",
       "    </tr>\n",
       "  </thead>\n",
       "  <tbody>\n",
       "    <tr>\n",
       "      <th>0</th>\n",
       "      <td>Brazil</td>\n",
       "      <td>Brasilia</td>\n",
       "      <td>8.516</td>\n",
       "      <td>200.40</td>\n",
       "    </tr>\n",
       "    <tr>\n",
       "      <th>1</th>\n",
       "      <td>Russia</td>\n",
       "      <td>Moscow</td>\n",
       "      <td>17.100</td>\n",
       "      <td>143.50</td>\n",
       "    </tr>\n",
       "    <tr>\n",
       "      <th>2</th>\n",
       "      <td>India</td>\n",
       "      <td>New Delhi</td>\n",
       "      <td>3.286</td>\n",
       "      <td>1252.00</td>\n",
       "    </tr>\n",
       "    <tr>\n",
       "      <th>3</th>\n",
       "      <td>China</td>\n",
       "      <td>Beijing</td>\n",
       "      <td>9.597</td>\n",
       "      <td>1357.00</td>\n",
       "    </tr>\n",
       "    <tr>\n",
       "      <th>4</th>\n",
       "      <td>South Africa</td>\n",
       "      <td>Pretoria</td>\n",
       "      <td>1.221</td>\n",
       "      <td>52.98</td>\n",
       "    </tr>\n",
       "  </tbody>\n",
       "</table>\n",
       "</div>"
      ],
      "text/plain": [
       "        country    capital    area  population\n",
       "0        Brazil   Brasilia   8.516      200.40\n",
       "1        Russia     Moscow  17.100      143.50\n",
       "2         India  New Delhi   3.286     1252.00\n",
       "3         China    Beijing   9.597     1357.00\n",
       "4  South Africa   Pretoria   1.221       52.98"
      ]
     },
     "execution_count": 83,
     "metadata": {},
     "output_type": "execute_result"
    }
   ],
   "source": [
    "brics"
   ]
  },
  {
   "cell_type": "code",
   "execution_count": 96,
   "id": "361d8932-2aa3-4895-aef2-ebc9cd0e9ceb",
   "metadata": {},
   "outputs": [],
   "source": [
    "# Keys have become column labels and values have become column values, column by column."
   ]
  },
  {
   "cell_type": "code",
   "execution_count": 90,
   "id": "40abf446-0a92-47b5-ad2c-ac25b1758736",
   "metadata": {},
   "outputs": [],
   "source": [
    "r = brics[['country', 'area']]"
   ]
  },
  {
   "cell_type": "code",
   "execution_count": 98,
   "id": "5f2ef5ab-6e9e-4f2f-b591-30b16ccd5003",
   "metadata": {},
   "outputs": [
    {
     "data": {
      "text/plain": [
       "country        object\n",
       "capital        object\n",
       "area          float64\n",
       "population    float64\n",
       "dtype: object"
      ]
     },
     "execution_count": 98,
     "metadata": {},
     "output_type": "execute_result"
    }
   ],
   "source": [
    "brics.dtypes"
   ]
  },
  {
   "cell_type": "markdown",
   "id": "1ab2f16b-9f02-43b3-8dc0-447c16bee16f",
   "metadata": {},
   "source": [
    "# CSV"
   ]
  },
  {
   "cell_type": "code",
   "execution_count": null,
   "id": "a00c49fa-74e6-4cd3-9d2a-1c8aa1b91a73",
   "metadata": {},
   "outputs": [],
   "source": [
    "pd.read_csv\n",
    "pd.read_excel"
   ]
  },
  {
   "cell_type": "code",
   "execution_count": 92,
   "id": "cd5bcc87-3877-4e46-9ba8-be85d4a40619",
   "metadata": {},
   "outputs": [],
   "source": [
    "apps_data = pd.read_csv('AppleStore.csv')"
   ]
  },
  {
   "cell_type": "code",
   "execution_count": 95,
   "id": "b5fb1146-926b-496b-9305-6c112ccf8dd1",
   "metadata": {},
   "outputs": [
    {
     "data": {
      "text/html": [
       "<div>\n",
       "<style scoped>\n",
       "    .dataframe tbody tr th:only-of-type {\n",
       "        vertical-align: middle;\n",
       "    }\n",
       "\n",
       "    .dataframe tbody tr th {\n",
       "        vertical-align: top;\n",
       "    }\n",
       "\n",
       "    .dataframe thead th {\n",
       "        text-align: right;\n",
       "    }\n",
       "</style>\n",
       "<table border=\"1\" class=\"dataframe\">\n",
       "  <thead>\n",
       "    <tr style=\"text-align: right;\">\n",
       "      <th></th>\n",
       "      <th>id</th>\n",
       "      <th>track_name</th>\n",
       "      <th>size_bytes</th>\n",
       "      <th>currency</th>\n",
       "      <th>price</th>\n",
       "      <th>rating_count_tot</th>\n",
       "      <th>rating_count_ver</th>\n",
       "      <th>user_rating</th>\n",
       "      <th>user_rating_ver</th>\n",
       "      <th>ver</th>\n",
       "      <th>cont_rating</th>\n",
       "      <th>prime_genre</th>\n",
       "      <th>sup_devices.num</th>\n",
       "      <th>ipadSc_urls.num</th>\n",
       "      <th>lang.num</th>\n",
       "      <th>vpp_lic</th>\n",
       "    </tr>\n",
       "  </thead>\n",
       "  <tbody>\n",
       "    <tr>\n",
       "      <th>0</th>\n",
       "      <td>284882215</td>\n",
       "      <td>Facebook</td>\n",
       "      <td>389879808</td>\n",
       "      <td>USD</td>\n",
       "      <td>0.0</td>\n",
       "      <td>2974676</td>\n",
       "      <td>212</td>\n",
       "      <td>3.5</td>\n",
       "      <td>3.5</td>\n",
       "      <td>95</td>\n",
       "      <td>4+</td>\n",
       "      <td>Social Networking</td>\n",
       "      <td>37</td>\n",
       "      <td>1</td>\n",
       "      <td>29</td>\n",
       "      <td>1</td>\n",
       "    </tr>\n",
       "    <tr>\n",
       "      <th>1</th>\n",
       "      <td>389801252</td>\n",
       "      <td>Instagram</td>\n",
       "      <td>113954816</td>\n",
       "      <td>USD</td>\n",
       "      <td>0.0</td>\n",
       "      <td>2161558</td>\n",
       "      <td>1289</td>\n",
       "      <td>4.5</td>\n",
       "      <td>4.0</td>\n",
       "      <td>10.23</td>\n",
       "      <td>12+</td>\n",
       "      <td>Photo &amp; Video</td>\n",
       "      <td>37</td>\n",
       "      <td>0</td>\n",
       "      <td>29</td>\n",
       "      <td>1</td>\n",
       "    </tr>\n",
       "    <tr>\n",
       "      <th>2</th>\n",
       "      <td>529479190</td>\n",
       "      <td>Clash of Clans</td>\n",
       "      <td>116476928</td>\n",
       "      <td>USD</td>\n",
       "      <td>0.0</td>\n",
       "      <td>2130805</td>\n",
       "      <td>579</td>\n",
       "      <td>4.5</td>\n",
       "      <td>4.5</td>\n",
       "      <td>9.24.12</td>\n",
       "      <td>9+</td>\n",
       "      <td>Games</td>\n",
       "      <td>38</td>\n",
       "      <td>5</td>\n",
       "      <td>18</td>\n",
       "      <td>1</td>\n",
       "    </tr>\n",
       "    <tr>\n",
       "      <th>3</th>\n",
       "      <td>420009108</td>\n",
       "      <td>Temple Run</td>\n",
       "      <td>65921024</td>\n",
       "      <td>USD</td>\n",
       "      <td>0.0</td>\n",
       "      <td>1724546</td>\n",
       "      <td>3842</td>\n",
       "      <td>4.5</td>\n",
       "      <td>4.0</td>\n",
       "      <td>1.6.2</td>\n",
       "      <td>9+</td>\n",
       "      <td>Games</td>\n",
       "      <td>40</td>\n",
       "      <td>5</td>\n",
       "      <td>1</td>\n",
       "      <td>1</td>\n",
       "    </tr>\n",
       "    <tr>\n",
       "      <th>4</th>\n",
       "      <td>284035177</td>\n",
       "      <td>Pandora - Music &amp; Radio</td>\n",
       "      <td>130242560</td>\n",
       "      <td>USD</td>\n",
       "      <td>0.0</td>\n",
       "      <td>1126879</td>\n",
       "      <td>3594</td>\n",
       "      <td>4.0</td>\n",
       "      <td>4.5</td>\n",
       "      <td>8.4.1</td>\n",
       "      <td>12+</td>\n",
       "      <td>Music</td>\n",
       "      <td>37</td>\n",
       "      <td>4</td>\n",
       "      <td>1</td>\n",
       "      <td>1</td>\n",
       "    </tr>\n",
       "    <tr>\n",
       "      <th>5</th>\n",
       "      <td>429047995</td>\n",
       "      <td>Pinterest</td>\n",
       "      <td>74778624</td>\n",
       "      <td>USD</td>\n",
       "      <td>0.0</td>\n",
       "      <td>1061624</td>\n",
       "      <td>1814</td>\n",
       "      <td>4.5</td>\n",
       "      <td>4.0</td>\n",
       "      <td>6.26</td>\n",
       "      <td>12+</td>\n",
       "      <td>Social Networking</td>\n",
       "      <td>37</td>\n",
       "      <td>5</td>\n",
       "      <td>27</td>\n",
       "      <td>1</td>\n",
       "    </tr>\n",
       "    <tr>\n",
       "      <th>6</th>\n",
       "      <td>282935706</td>\n",
       "      <td>Bible</td>\n",
       "      <td>92774400</td>\n",
       "      <td>USD</td>\n",
       "      <td>0.0</td>\n",
       "      <td>985920</td>\n",
       "      <td>5320</td>\n",
       "      <td>4.5</td>\n",
       "      <td>5.0</td>\n",
       "      <td>7.5.1</td>\n",
       "      <td>4+</td>\n",
       "      <td>Reference</td>\n",
       "      <td>37</td>\n",
       "      <td>5</td>\n",
       "      <td>45</td>\n",
       "      <td>1</td>\n",
       "    </tr>\n",
       "    <tr>\n",
       "      <th>7</th>\n",
       "      <td>553834731</td>\n",
       "      <td>Candy Crush Saga</td>\n",
       "      <td>222846976</td>\n",
       "      <td>USD</td>\n",
       "      <td>0.0</td>\n",
       "      <td>961794</td>\n",
       "      <td>2453</td>\n",
       "      <td>4.5</td>\n",
       "      <td>4.5</td>\n",
       "      <td>1.101.0</td>\n",
       "      <td>4+</td>\n",
       "      <td>Games</td>\n",
       "      <td>43</td>\n",
       "      <td>5</td>\n",
       "      <td>24</td>\n",
       "      <td>1</td>\n",
       "    </tr>\n",
       "    <tr>\n",
       "      <th>8</th>\n",
       "      <td>324684580</td>\n",
       "      <td>Spotify Music</td>\n",
       "      <td>132510720</td>\n",
       "      <td>USD</td>\n",
       "      <td>0.0</td>\n",
       "      <td>878563</td>\n",
       "      <td>8253</td>\n",
       "      <td>4.5</td>\n",
       "      <td>4.5</td>\n",
       "      <td>8.4.3</td>\n",
       "      <td>12+</td>\n",
       "      <td>Music</td>\n",
       "      <td>37</td>\n",
       "      <td>5</td>\n",
       "      <td>18</td>\n",
       "      <td>1</td>\n",
       "    </tr>\n",
       "    <tr>\n",
       "      <th>9</th>\n",
       "      <td>343200656</td>\n",
       "      <td>Angry Birds</td>\n",
       "      <td>175966208</td>\n",
       "      <td>USD</td>\n",
       "      <td>0.0</td>\n",
       "      <td>824451</td>\n",
       "      <td>107</td>\n",
       "      <td>4.5</td>\n",
       "      <td>3.0</td>\n",
       "      <td>7.4.0</td>\n",
       "      <td>4+</td>\n",
       "      <td>Games</td>\n",
       "      <td>38</td>\n",
       "      <td>0</td>\n",
       "      <td>10</td>\n",
       "      <td>1</td>\n",
       "    </tr>\n",
       "  </tbody>\n",
       "</table>\n",
       "</div>"
      ],
      "text/plain": [
       "          id               track_name  size_bytes currency  price  \\\n",
       "0  284882215                 Facebook   389879808      USD    0.0   \n",
       "1  389801252                Instagram   113954816      USD    0.0   \n",
       "2  529479190           Clash of Clans   116476928      USD    0.0   \n",
       "3  420009108               Temple Run    65921024      USD    0.0   \n",
       "4  284035177  Pandora - Music & Radio   130242560      USD    0.0   \n",
       "5  429047995                Pinterest    74778624      USD    0.0   \n",
       "6  282935706                    Bible    92774400      USD    0.0   \n",
       "7  553834731         Candy Crush Saga   222846976      USD    0.0   \n",
       "8  324684580            Spotify Music   132510720      USD    0.0   \n",
       "9  343200656              Angry Birds   175966208      USD    0.0   \n",
       "\n",
       "   rating_count_tot  rating_count_ver  user_rating  user_rating_ver      ver  \\\n",
       "0           2974676               212          3.5              3.5       95   \n",
       "1           2161558              1289          4.5              4.0    10.23   \n",
       "2           2130805               579          4.5              4.5  9.24.12   \n",
       "3           1724546              3842          4.5              4.0    1.6.2   \n",
       "4           1126879              3594          4.0              4.5    8.4.1   \n",
       "5           1061624              1814          4.5              4.0     6.26   \n",
       "6            985920              5320          4.5              5.0    7.5.1   \n",
       "7            961794              2453          4.5              4.5  1.101.0   \n",
       "8            878563              8253          4.5              4.5    8.4.3   \n",
       "9            824451               107          4.5              3.0    7.4.0   \n",
       "\n",
       "  cont_rating        prime_genre  sup_devices.num  ipadSc_urls.num  lang.num  \\\n",
       "0          4+  Social Networking               37                1        29   \n",
       "1         12+      Photo & Video               37                0        29   \n",
       "2          9+              Games               38                5        18   \n",
       "3          9+              Games               40                5         1   \n",
       "4         12+              Music               37                4         1   \n",
       "5         12+  Social Networking               37                5        27   \n",
       "6          4+          Reference               37                5        45   \n",
       "7          4+              Games               43                5        24   \n",
       "8         12+              Music               37                5        18   \n",
       "9          4+              Games               38                0        10   \n",
       "\n",
       "   vpp_lic  \n",
       "0        1  \n",
       "1        1  \n",
       "2        1  \n",
       "3        1  \n",
       "4        1  \n",
       "5        1  \n",
       "6        1  \n",
       "7        1  \n",
       "8        1  \n",
       "9        1  "
      ]
     },
     "execution_count": 95,
     "metadata": {},
     "output_type": "execute_result"
    }
   ],
   "source": [
    "apps_data.head(10)"
   ]
  },
  {
   "cell_type": "code",
   "execution_count": 97,
   "id": "e3233aee-87e2-4f06-9d8e-9119c6c1666f",
   "metadata": {},
   "outputs": [
    {
     "data": {
      "text/html": [
       "<div>\n",
       "<style scoped>\n",
       "    .dataframe tbody tr th:only-of-type {\n",
       "        vertical-align: middle;\n",
       "    }\n",
       "\n",
       "    .dataframe tbody tr th {\n",
       "        vertical-align: top;\n",
       "    }\n",
       "\n",
       "    .dataframe thead th {\n",
       "        text-align: right;\n",
       "    }\n",
       "</style>\n",
       "<table border=\"1\" class=\"dataframe\">\n",
       "  <thead>\n",
       "    <tr style=\"text-align: right;\">\n",
       "      <th></th>\n",
       "      <th>id</th>\n",
       "      <th>track_name</th>\n",
       "      <th>size_bytes</th>\n",
       "      <th>currency</th>\n",
       "      <th>price</th>\n",
       "      <th>rating_count_tot</th>\n",
       "      <th>rating_count_ver</th>\n",
       "      <th>user_rating</th>\n",
       "      <th>user_rating_ver</th>\n",
       "      <th>ver</th>\n",
       "      <th>cont_rating</th>\n",
       "      <th>prime_genre</th>\n",
       "      <th>sup_devices.num</th>\n",
       "      <th>ipadSc_urls.num</th>\n",
       "      <th>lang.num</th>\n",
       "      <th>vpp_lic</th>\n",
       "    </tr>\n",
       "  </thead>\n",
       "  <tbody>\n",
       "    <tr>\n",
       "      <th>7195</th>\n",
       "      <td>1081295232</td>\n",
       "      <td>Suppin Detective: Expose their true visage!</td>\n",
       "      <td>83026944</td>\n",
       "      <td>USD</td>\n",
       "      <td>0.0</td>\n",
       "      <td>0</td>\n",
       "      <td>0</td>\n",
       "      <td>0.0</td>\n",
       "      <td>0.0</td>\n",
       "      <td>1.0.3</td>\n",
       "      <td>12+</td>\n",
       "      <td>Entertainment</td>\n",
       "      <td>40</td>\n",
       "      <td>0</td>\n",
       "      <td>1</td>\n",
       "      <td>1</td>\n",
       "    </tr>\n",
       "    <tr>\n",
       "      <th>7196</th>\n",
       "      <td>977965019</td>\n",
       "      <td>みんなのお弁当 by クックパッド ~お弁当をレシピ付きで記録・共有~</td>\n",
       "      <td>51174400</td>\n",
       "      <td>USD</td>\n",
       "      <td>0.0</td>\n",
       "      <td>0</td>\n",
       "      <td>0</td>\n",
       "      <td>0.0</td>\n",
       "      <td>0.0</td>\n",
       "      <td>1.4.0</td>\n",
       "      <td>4+</td>\n",
       "      <td>Food &amp; Drink</td>\n",
       "      <td>37</td>\n",
       "      <td>0</td>\n",
       "      <td>1</td>\n",
       "      <td>1</td>\n",
       "    </tr>\n",
       "  </tbody>\n",
       "</table>\n",
       "</div>"
      ],
      "text/plain": [
       "              id                                   track_name  size_bytes  \\\n",
       "7195  1081295232  Suppin Detective: Expose their true visage!    83026944   \n",
       "7196   977965019          みんなのお弁当 by クックパッド ~お弁当をレシピ付きで記録・共有~    51174400   \n",
       "\n",
       "     currency  price  rating_count_tot  rating_count_ver  user_rating  \\\n",
       "7195      USD    0.0                 0                 0          0.0   \n",
       "7196      USD    0.0                 0                 0          0.0   \n",
       "\n",
       "      user_rating_ver    ver cont_rating    prime_genre  sup_devices.num  \\\n",
       "7195              0.0  1.0.3         12+  Entertainment               40   \n",
       "7196              0.0  1.4.0          4+   Food & Drink               37   \n",
       "\n",
       "      ipadSc_urls.num  lang.num  vpp_lic  \n",
       "7195                0         1        1  \n",
       "7196                0         1        1  "
      ]
     },
     "execution_count": 97,
     "metadata": {},
     "output_type": "execute_result"
    }
   ],
   "source": [
    "apps_data.tail(2)"
   ]
  },
  {
   "cell_type": "code",
   "execution_count": 100,
   "id": "f5d13a7b-f6f5-4102-a6db-572f21619bcf",
   "metadata": {},
   "outputs": [
    {
     "data": {
      "text/plain": [
       "id                    int64\n",
       "track_name           object\n",
       "size_bytes            int64\n",
       "currency             object\n",
       "price               float64\n",
       "rating_count_tot      int64\n",
       "rating_count_ver      int64\n",
       "user_rating         float64\n",
       "user_rating_ver     float64\n",
       "ver                  object\n",
       "cont_rating          object\n",
       "prime_genre          object\n",
       "sup_devices.num       int64\n",
       "ipadSc_urls.num       int64\n",
       "lang.num              int64\n",
       "vpp_lic               int64\n",
       "dtype: object"
      ]
     },
     "execution_count": 100,
     "metadata": {},
     "output_type": "execute_result"
    }
   ],
   "source": [
    "apps_data.dtypes"
   ]
  },
  {
   "cell_type": "code",
   "execution_count": 99,
   "id": "d3a9ea9d-d094-45ea-ae17-38250e1923ed",
   "metadata": {},
   "outputs": [
    {
     "data": {
      "text/html": [
       "<div>\n",
       "<style scoped>\n",
       "    .dataframe tbody tr th:only-of-type {\n",
       "        vertical-align: middle;\n",
       "    }\n",
       "\n",
       "    .dataframe tbody tr th {\n",
       "        vertical-align: top;\n",
       "    }\n",
       "\n",
       "    .dataframe thead th {\n",
       "        text-align: right;\n",
       "    }\n",
       "</style>\n",
       "<table border=\"1\" class=\"dataframe\">\n",
       "  <thead>\n",
       "    <tr style=\"text-align: right;\">\n",
       "      <th></th>\n",
       "      <th>id</th>\n",
       "      <th>track_name</th>\n",
       "      <th>size_bytes</th>\n",
       "      <th>currency</th>\n",
       "      <th>price</th>\n",
       "      <th>rating_count_tot</th>\n",
       "      <th>rating_count_ver</th>\n",
       "      <th>user_rating</th>\n",
       "      <th>user_rating_ver</th>\n",
       "      <th>ver</th>\n",
       "      <th>cont_rating</th>\n",
       "      <th>prime_genre</th>\n",
       "      <th>sup_devices.num</th>\n",
       "      <th>ipadSc_urls.num</th>\n",
       "      <th>lang.num</th>\n",
       "      <th>vpp_lic</th>\n",
       "    </tr>\n",
       "  </thead>\n",
       "  <tbody>\n",
       "    <tr>\n",
       "      <th>0</th>\n",
       "      <td>False</td>\n",
       "      <td>False</td>\n",
       "      <td>False</td>\n",
       "      <td>False</td>\n",
       "      <td>False</td>\n",
       "      <td>False</td>\n",
       "      <td>False</td>\n",
       "      <td>False</td>\n",
       "      <td>False</td>\n",
       "      <td>False</td>\n",
       "      <td>False</td>\n",
       "      <td>False</td>\n",
       "      <td>False</td>\n",
       "      <td>False</td>\n",
       "      <td>False</td>\n",
       "      <td>False</td>\n",
       "    </tr>\n",
       "    <tr>\n",
       "      <th>1</th>\n",
       "      <td>False</td>\n",
       "      <td>False</td>\n",
       "      <td>False</td>\n",
       "      <td>False</td>\n",
       "      <td>False</td>\n",
       "      <td>False</td>\n",
       "      <td>False</td>\n",
       "      <td>False</td>\n",
       "      <td>False</td>\n",
       "      <td>False</td>\n",
       "      <td>False</td>\n",
       "      <td>False</td>\n",
       "      <td>False</td>\n",
       "      <td>False</td>\n",
       "      <td>False</td>\n",
       "      <td>False</td>\n",
       "    </tr>\n",
       "    <tr>\n",
       "      <th>2</th>\n",
       "      <td>False</td>\n",
       "      <td>False</td>\n",
       "      <td>False</td>\n",
       "      <td>False</td>\n",
       "      <td>False</td>\n",
       "      <td>False</td>\n",
       "      <td>False</td>\n",
       "      <td>False</td>\n",
       "      <td>False</td>\n",
       "      <td>False</td>\n",
       "      <td>False</td>\n",
       "      <td>False</td>\n",
       "      <td>False</td>\n",
       "      <td>False</td>\n",
       "      <td>False</td>\n",
       "      <td>False</td>\n",
       "    </tr>\n",
       "    <tr>\n",
       "      <th>3</th>\n",
       "      <td>False</td>\n",
       "      <td>False</td>\n",
       "      <td>False</td>\n",
       "      <td>False</td>\n",
       "      <td>False</td>\n",
       "      <td>False</td>\n",
       "      <td>False</td>\n",
       "      <td>False</td>\n",
       "      <td>False</td>\n",
       "      <td>False</td>\n",
       "      <td>False</td>\n",
       "      <td>False</td>\n",
       "      <td>False</td>\n",
       "      <td>False</td>\n",
       "      <td>False</td>\n",
       "      <td>False</td>\n",
       "    </tr>\n",
       "    <tr>\n",
       "      <th>4</th>\n",
       "      <td>False</td>\n",
       "      <td>False</td>\n",
       "      <td>False</td>\n",
       "      <td>False</td>\n",
       "      <td>False</td>\n",
       "      <td>False</td>\n",
       "      <td>False</td>\n",
       "      <td>False</td>\n",
       "      <td>False</td>\n",
       "      <td>False</td>\n",
       "      <td>False</td>\n",
       "      <td>False</td>\n",
       "      <td>False</td>\n",
       "      <td>False</td>\n",
       "      <td>False</td>\n",
       "      <td>False</td>\n",
       "    </tr>\n",
       "    <tr>\n",
       "      <th>...</th>\n",
       "      <td>...</td>\n",
       "      <td>...</td>\n",
       "      <td>...</td>\n",
       "      <td>...</td>\n",
       "      <td>...</td>\n",
       "      <td>...</td>\n",
       "      <td>...</td>\n",
       "      <td>...</td>\n",
       "      <td>...</td>\n",
       "      <td>...</td>\n",
       "      <td>...</td>\n",
       "      <td>...</td>\n",
       "      <td>...</td>\n",
       "      <td>...</td>\n",
       "      <td>...</td>\n",
       "      <td>...</td>\n",
       "    </tr>\n",
       "    <tr>\n",
       "      <th>7192</th>\n",
       "      <td>False</td>\n",
       "      <td>False</td>\n",
       "      <td>False</td>\n",
       "      <td>False</td>\n",
       "      <td>False</td>\n",
       "      <td>False</td>\n",
       "      <td>False</td>\n",
       "      <td>False</td>\n",
       "      <td>False</td>\n",
       "      <td>False</td>\n",
       "      <td>False</td>\n",
       "      <td>False</td>\n",
       "      <td>False</td>\n",
       "      <td>False</td>\n",
       "      <td>False</td>\n",
       "      <td>False</td>\n",
       "    </tr>\n",
       "    <tr>\n",
       "      <th>7193</th>\n",
       "      <td>False</td>\n",
       "      <td>False</td>\n",
       "      <td>False</td>\n",
       "      <td>False</td>\n",
       "      <td>False</td>\n",
       "      <td>False</td>\n",
       "      <td>False</td>\n",
       "      <td>False</td>\n",
       "      <td>False</td>\n",
       "      <td>False</td>\n",
       "      <td>False</td>\n",
       "      <td>False</td>\n",
       "      <td>False</td>\n",
       "      <td>False</td>\n",
       "      <td>False</td>\n",
       "      <td>False</td>\n",
       "    </tr>\n",
       "    <tr>\n",
       "      <th>7194</th>\n",
       "      <td>False</td>\n",
       "      <td>False</td>\n",
       "      <td>False</td>\n",
       "      <td>False</td>\n",
       "      <td>False</td>\n",
       "      <td>False</td>\n",
       "      <td>False</td>\n",
       "      <td>False</td>\n",
       "      <td>False</td>\n",
       "      <td>False</td>\n",
       "      <td>False</td>\n",
       "      <td>False</td>\n",
       "      <td>False</td>\n",
       "      <td>False</td>\n",
       "      <td>False</td>\n",
       "      <td>False</td>\n",
       "    </tr>\n",
       "    <tr>\n",
       "      <th>7195</th>\n",
       "      <td>False</td>\n",
       "      <td>False</td>\n",
       "      <td>False</td>\n",
       "      <td>False</td>\n",
       "      <td>False</td>\n",
       "      <td>False</td>\n",
       "      <td>False</td>\n",
       "      <td>False</td>\n",
       "      <td>False</td>\n",
       "      <td>False</td>\n",
       "      <td>False</td>\n",
       "      <td>False</td>\n",
       "      <td>False</td>\n",
       "      <td>False</td>\n",
       "      <td>False</td>\n",
       "      <td>False</td>\n",
       "    </tr>\n",
       "    <tr>\n",
       "      <th>7196</th>\n",
       "      <td>False</td>\n",
       "      <td>False</td>\n",
       "      <td>False</td>\n",
       "      <td>False</td>\n",
       "      <td>False</td>\n",
       "      <td>False</td>\n",
       "      <td>False</td>\n",
       "      <td>False</td>\n",
       "      <td>False</td>\n",
       "      <td>False</td>\n",
       "      <td>False</td>\n",
       "      <td>False</td>\n",
       "      <td>False</td>\n",
       "      <td>False</td>\n",
       "      <td>False</td>\n",
       "      <td>False</td>\n",
       "    </tr>\n",
       "  </tbody>\n",
       "</table>\n",
       "<p>7197 rows × 16 columns</p>\n",
       "</div>"
      ],
      "text/plain": [
       "         id  track_name  size_bytes  currency  price  rating_count_tot  \\\n",
       "0     False       False       False     False  False             False   \n",
       "1     False       False       False     False  False             False   \n",
       "2     False       False       False     False  False             False   \n",
       "3     False       False       False     False  False             False   \n",
       "4     False       False       False     False  False             False   \n",
       "...     ...         ...         ...       ...    ...               ...   \n",
       "7192  False       False       False     False  False             False   \n",
       "7193  False       False       False     False  False             False   \n",
       "7194  False       False       False     False  False             False   \n",
       "7195  False       False       False     False  False             False   \n",
       "7196  False       False       False     False  False             False   \n",
       "\n",
       "      rating_count_ver  user_rating  user_rating_ver    ver  cont_rating  \\\n",
       "0                False        False            False  False        False   \n",
       "1                False        False            False  False        False   \n",
       "2                False        False            False  False        False   \n",
       "3                False        False            False  False        False   \n",
       "4                False        False            False  False        False   \n",
       "...                ...          ...              ...    ...          ...   \n",
       "7192             False        False            False  False        False   \n",
       "7193             False        False            False  False        False   \n",
       "7194             False        False            False  False        False   \n",
       "7195             False        False            False  False        False   \n",
       "7196             False        False            False  False        False   \n",
       "\n",
       "      prime_genre  sup_devices.num  ipadSc_urls.num  lang.num  vpp_lic  \n",
       "0           False            False            False     False    False  \n",
       "1           False            False            False     False    False  \n",
       "2           False            False            False     False    False  \n",
       "3           False            False            False     False    False  \n",
       "4           False            False            False     False    False  \n",
       "...           ...              ...              ...       ...      ...  \n",
       "7192        False            False            False     False    False  \n",
       "7193        False            False            False     False    False  \n",
       "7194        False            False            False     False    False  \n",
       "7195        False            False            False     False    False  \n",
       "7196        False            False            False     False    False  \n",
       "\n",
       "[7197 rows x 16 columns]"
      ]
     },
     "execution_count": 99,
     "metadata": {},
     "output_type": "execute_result"
    }
   ],
   "source": [
    "apps_data.isna()"
   ]
  },
  {
   "cell_type": "code",
   "execution_count": 104,
   "id": "80aa1a99-403b-434e-8956-5d3268edc26d",
   "metadata": {},
   "outputs": [
    {
     "data": {
      "text/plain": [
       "id                  0\n",
       "track_name          0\n",
       "size_bytes          0\n",
       "currency            0\n",
       "price               0\n",
       "rating_count_tot    0\n",
       "rating_count_ver    0\n",
       "user_rating         0\n",
       "user_rating_ver     0\n",
       "ver                 0\n",
       "cont_rating         0\n",
       "prime_genre         0\n",
       "sup_devices.num     0\n",
       "ipadSc_urls.num     0\n",
       "lang.num            0\n",
       "vpp_lic             0\n",
       "dtype: int64"
      ]
     },
     "execution_count": 104,
     "metadata": {},
     "output_type": "execute_result"
    }
   ],
   "source": [
    "apps_data.isna().sum()"
   ]
  },
  {
   "cell_type": "markdown",
   "id": "bddf9044-0fe9-4527-ab3a-0abf771f960b",
   "metadata": {},
   "source": [
    "#### summary statistics "
   ]
  },
  {
   "cell_type": "markdown",
   "id": "25057d61-2735-46e6-bbf3-49d9f37f657b",
   "metadata": {},
   "source": [
    "* continuous variable"
   ]
  },
  {
   "cell_type": "code",
   "execution_count": 100,
   "id": "c57ba189-b282-4a68-8e1a-0bdb0f53c38d",
   "metadata": {},
   "outputs": [
    {
     "data": {
      "text/plain": [
       "3.526955675976101"
      ]
     },
     "execution_count": 100,
     "metadata": {},
     "output_type": "execute_result"
    }
   ],
   "source": [
    "apps_data['user_rating'].mean()"
   ]
  },
  {
   "cell_type": "code",
   "execution_count": 101,
   "id": "fb031874-cce6-4066-a6f3-500ee30ce678",
   "metadata": {},
   "outputs": [
    {
     "data": {
      "text/plain": [
       "0    4.5\n",
       "Name: user_rating, dtype: float64"
      ]
     },
     "execution_count": 101,
     "metadata": {},
     "output_type": "execute_result"
    }
   ],
   "source": [
    "apps_data['user_rating'].mode()"
   ]
  },
  {
   "cell_type": "code",
   "execution_count": 102,
   "id": "98859894-1e54-433f-b0f0-c74eecb4c67b",
   "metadata": {},
   "outputs": [
    {
     "data": {
      "text/plain": [
       "4.0"
      ]
     },
     "execution_count": 102,
     "metadata": {},
     "output_type": "execute_result"
    }
   ],
   "source": [
    "apps_data['user_rating'].median()"
   ]
  },
  {
   "cell_type": "code",
   "execution_count": 103,
   "id": "e31bf1ed-43f5-44bf-b916-0b98e49cb8af",
   "metadata": {},
   "outputs": [
    {
     "data": {
      "text/plain": [
       "1.5179475936298683"
      ]
     },
     "execution_count": 103,
     "metadata": {},
     "output_type": "execute_result"
    }
   ],
   "source": [
    "apps_data['user_rating'].std()"
   ]
  },
  {
   "cell_type": "markdown",
   "id": "cb16566a-d9ce-4af5-a71f-48ec7fd9f4f4",
   "metadata": {},
   "source": [
    "#### Frequency table"
   ]
  },
  {
   "cell_type": "code",
   "execution_count": 104,
   "id": "2b6e6f13-3b48-4724-b266-998e96fb9a0c",
   "metadata": {},
   "outputs": [
    {
     "data": {
      "text/plain": [
       "prime_genre\n",
       "Games                3862\n",
       "Entertainment         535\n",
       "Education             453\n",
       "Photo & Video         349\n",
       "Utilities             248\n",
       "Health & Fitness      180\n",
       "Productivity          178\n",
       "Social Networking     167\n",
       "Lifestyle             144\n",
       "Music                 138\n",
       "Shopping              122\n",
       "Sports                114\n",
       "Book                  112\n",
       "Finance               104\n",
       "Travel                 81\n",
       "News                   75\n",
       "Weather                72\n",
       "Reference              64\n",
       "Food & Drink           63\n",
       "Business               57\n",
       "Navigation             46\n",
       "Medical                23\n",
       "Catalogs               10\n",
       "Name: count, dtype: int64"
      ]
     },
     "execution_count": 104,
     "metadata": {},
     "output_type": "execute_result"
    }
   ],
   "source": [
    "apps_data['prime_genre'].value_counts()"
   ]
  },
  {
   "cell_type": "code",
   "execution_count": 160,
   "id": "c9c71452-1b4d-4615-ae1e-a49f5924b1de",
   "metadata": {},
   "outputs": [],
   "source": [
    "### Reading SAARC"
   ]
  },
  {
   "cell_type": "code",
   "execution_count": 106,
   "id": "c65211e6-96a1-4f90-966b-9215770b0787",
   "metadata": {},
   "outputs": [],
   "source": [
    "saarc = pd.read_csv(\"3a79e33b-0b7f-47c5-af75-3c9c7ddb3ba6_Data.csv\")"
   ]
  },
  {
   "cell_type": "code",
   "execution_count": 107,
   "id": "55d764e1-d039-4b20-967c-043cd6265b1c",
   "metadata": {},
   "outputs": [
    {
     "data": {
      "text/html": [
       "<div>\n",
       "<style scoped>\n",
       "    .dataframe tbody tr th:only-of-type {\n",
       "        vertical-align: middle;\n",
       "    }\n",
       "\n",
       "    .dataframe tbody tr th {\n",
       "        vertical-align: top;\n",
       "    }\n",
       "\n",
       "    .dataframe thead th {\n",
       "        text-align: right;\n",
       "    }\n",
       "</style>\n",
       "<table border=\"1\" class=\"dataframe\">\n",
       "  <thead>\n",
       "    <tr style=\"text-align: right;\">\n",
       "      <th></th>\n",
       "      <th>Time</th>\n",
       "      <th>Time Code</th>\n",
       "      <th>Country Name</th>\n",
       "      <th>Country Code</th>\n",
       "      <th>Population density (people per sq. km of land area) [EN.POP.DNST]</th>\n",
       "      <th>Population, total [SP.POP.TOTL]</th>\n",
       "      <th>GDP growth (annual %) [NY.GDP.MKTP.KD.ZG]</th>\n",
       "      <th>GDP per capita (constant 2015 US$) [NY.GDP.PCAP.KD]</th>\n",
       "      <th>GDP (current US$) [NY.GDP.MKTP.CD]</th>\n",
       "      <th>Gini index [SI.POV.GINI]</th>\n",
       "    </tr>\n",
       "  </thead>\n",
       "  <tbody>\n",
       "    <tr>\n",
       "      <th>0</th>\n",
       "      <td>2023</td>\n",
       "      <td>YR2023</td>\n",
       "      <td>Afghanistan</td>\n",
       "      <td>AFG</td>\n",
       "      <td>..</td>\n",
       "      <td>4.145476e+07</td>\n",
       "      <td>2.266944</td>\n",
       "      <td>378.066303</td>\n",
       "      <td>1.715223e+10</td>\n",
       "      <td>..</td>\n",
       "    </tr>\n",
       "    <tr>\n",
       "      <th>1</th>\n",
       "      <td>2023</td>\n",
       "      <td>YR2023</td>\n",
       "      <td>Bangladesh</td>\n",
       "      <td>BGD</td>\n",
       "      <td>..</td>\n",
       "      <td>1.714670e+08</td>\n",
       "      <td>5.775112</td>\n",
       "      <td>1885.377336</td>\n",
       "      <td>4.374153e+11</td>\n",
       "      <td>..</td>\n",
       "    </tr>\n",
       "    <tr>\n",
       "      <th>2</th>\n",
       "      <td>2023</td>\n",
       "      <td>YR2023</td>\n",
       "      <td>Bhutan</td>\n",
       "      <td>BTN</td>\n",
       "      <td>..</td>\n",
       "      <td>7.863850e+05</td>\n",
       "      <td>4.882594</td>\n",
       "      <td>3488.844491</td>\n",
       "      <td>3.019254e+09</td>\n",
       "      <td>..</td>\n",
       "    </tr>\n",
       "    <tr>\n",
       "      <th>3</th>\n",
       "      <td>2023</td>\n",
       "      <td>YR2023</td>\n",
       "      <td>India</td>\n",
       "      <td>IND</td>\n",
       "      <td>..</td>\n",
       "      <td>1.438070e+09</td>\n",
       "      <td>9.190755</td>\n",
       "      <td>2270.905181</td>\n",
       "      <td>3.638489e+12</td>\n",
       "      <td>..</td>\n",
       "    </tr>\n",
       "    <tr>\n",
       "      <th>4</th>\n",
       "      <td>2023</td>\n",
       "      <td>YR2023</td>\n",
       "      <td>Maldives</td>\n",
       "      <td>MDV</td>\n",
       "      <td>..</td>\n",
       "      <td>5.259940e+05</td>\n",
       "      <td>4.726392</td>\n",
       "      <td>11415.939509</td>\n",
       "      <td>6.590894e+09</td>\n",
       "      <td>..</td>\n",
       "    </tr>\n",
       "    <tr>\n",
       "      <th>5</th>\n",
       "      <td>2023</td>\n",
       "      <td>YR2023</td>\n",
       "      <td>Sri Lanka</td>\n",
       "      <td>LKA</td>\n",
       "      <td>..</td>\n",
       "      <td>2.203700e+07</td>\n",
       "      <td>-2.329848</td>\n",
       "      <td>3964.919874</td>\n",
       "      <td>8.371614e+10</td>\n",
       "      <td>..</td>\n",
       "    </tr>\n",
       "    <tr>\n",
       "      <th>6</th>\n",
       "      <td>2023</td>\n",
       "      <td>YR2023</td>\n",
       "      <td>Pakistan</td>\n",
       "      <td>PAK</td>\n",
       "      <td>..</td>\n",
       "      <td>2.475045e+08</td>\n",
       "      <td>-0.039839</td>\n",
       "      <td>1616.396701</td>\n",
       "      <td>3.378855e+11</td>\n",
       "      <td>..</td>\n",
       "    </tr>\n",
       "    <tr>\n",
       "      <th>7</th>\n",
       "      <td>2023</td>\n",
       "      <td>YR2023</td>\n",
       "      <td>Nepal</td>\n",
       "      <td>NPL</td>\n",
       "      <td>..</td>\n",
       "      <td>2.969461e+07</td>\n",
       "      <td>1.982548</td>\n",
       "      <td>1136.427693</td>\n",
       "      <td>4.104777e+10</td>\n",
       "      <td>..</td>\n",
       "    </tr>\n",
       "    <tr>\n",
       "      <th>8</th>\n",
       "      <td>NaN</td>\n",
       "      <td>NaN</td>\n",
       "      <td>NaN</td>\n",
       "      <td>NaN</td>\n",
       "      <td>NaN</td>\n",
       "      <td>NaN</td>\n",
       "      <td>NaN</td>\n",
       "      <td>NaN</td>\n",
       "      <td>NaN</td>\n",
       "      <td>NaN</td>\n",
       "    </tr>\n",
       "    <tr>\n",
       "      <th>9</th>\n",
       "      <td>NaN</td>\n",
       "      <td>NaN</td>\n",
       "      <td>NaN</td>\n",
       "      <td>NaN</td>\n",
       "      <td>NaN</td>\n",
       "      <td>NaN</td>\n",
       "      <td>NaN</td>\n",
       "      <td>NaN</td>\n",
       "      <td>NaN</td>\n",
       "      <td>NaN</td>\n",
       "    </tr>\n",
       "    <tr>\n",
       "      <th>10</th>\n",
       "      <td>NaN</td>\n",
       "      <td>NaN</td>\n",
       "      <td>NaN</td>\n",
       "      <td>NaN</td>\n",
       "      <td>NaN</td>\n",
       "      <td>NaN</td>\n",
       "      <td>NaN</td>\n",
       "      <td>NaN</td>\n",
       "      <td>NaN</td>\n",
       "      <td>NaN</td>\n",
       "    </tr>\n",
       "    <tr>\n",
       "      <th>11</th>\n",
       "      <td>Data from database: World Development Indicators</td>\n",
       "      <td>NaN</td>\n",
       "      <td>NaN</td>\n",
       "      <td>NaN</td>\n",
       "      <td>NaN</td>\n",
       "      <td>NaN</td>\n",
       "      <td>NaN</td>\n",
       "      <td>NaN</td>\n",
       "      <td>NaN</td>\n",
       "      <td>NaN</td>\n",
       "    </tr>\n",
       "    <tr>\n",
       "      <th>12</th>\n",
       "      <td>Last Updated: 07/01/2025</td>\n",
       "      <td>NaN</td>\n",
       "      <td>NaN</td>\n",
       "      <td>NaN</td>\n",
       "      <td>NaN</td>\n",
       "      <td>NaN</td>\n",
       "      <td>NaN</td>\n",
       "      <td>NaN</td>\n",
       "      <td>NaN</td>\n",
       "      <td>NaN</td>\n",
       "    </tr>\n",
       "  </tbody>\n",
       "</table>\n",
       "</div>"
      ],
      "text/plain": [
       "                                                Time Time Code Country Name  \\\n",
       "0                                               2023    YR2023  Afghanistan   \n",
       "1                                               2023    YR2023   Bangladesh   \n",
       "2                                               2023    YR2023       Bhutan   \n",
       "3                                               2023    YR2023        India   \n",
       "4                                               2023    YR2023     Maldives   \n",
       "5                                               2023    YR2023    Sri Lanka   \n",
       "6                                               2023    YR2023     Pakistan   \n",
       "7                                               2023    YR2023        Nepal   \n",
       "8                                                NaN       NaN          NaN   \n",
       "9                                                NaN       NaN          NaN   \n",
       "10                                               NaN       NaN          NaN   \n",
       "11  Data from database: World Development Indicators       NaN          NaN   \n",
       "12                          Last Updated: 07/01/2025       NaN          NaN   \n",
       "\n",
       "   Country Code  \\\n",
       "0           AFG   \n",
       "1           BGD   \n",
       "2           BTN   \n",
       "3           IND   \n",
       "4           MDV   \n",
       "5           LKA   \n",
       "6           PAK   \n",
       "7           NPL   \n",
       "8           NaN   \n",
       "9           NaN   \n",
       "10          NaN   \n",
       "11          NaN   \n",
       "12          NaN   \n",
       "\n",
       "   Population density (people per sq. km of land area) [EN.POP.DNST]  \\\n",
       "0                                                  ..                  \n",
       "1                                                  ..                  \n",
       "2                                                  ..                  \n",
       "3                                                  ..                  \n",
       "4                                                  ..                  \n",
       "5                                                  ..                  \n",
       "6                                                  ..                  \n",
       "7                                                  ..                  \n",
       "8                                                 NaN                  \n",
       "9                                                 NaN                  \n",
       "10                                                NaN                  \n",
       "11                                                NaN                  \n",
       "12                                                NaN                  \n",
       "\n",
       "    Population, total [SP.POP.TOTL]  \\\n",
       "0                      4.145476e+07   \n",
       "1                      1.714670e+08   \n",
       "2                      7.863850e+05   \n",
       "3                      1.438070e+09   \n",
       "4                      5.259940e+05   \n",
       "5                      2.203700e+07   \n",
       "6                      2.475045e+08   \n",
       "7                      2.969461e+07   \n",
       "8                               NaN   \n",
       "9                               NaN   \n",
       "10                              NaN   \n",
       "11                              NaN   \n",
       "12                              NaN   \n",
       "\n",
       "    GDP growth (annual %) [NY.GDP.MKTP.KD.ZG]  \\\n",
       "0                                    2.266944   \n",
       "1                                    5.775112   \n",
       "2                                    4.882594   \n",
       "3                                    9.190755   \n",
       "4                                    4.726392   \n",
       "5                                   -2.329848   \n",
       "6                                   -0.039839   \n",
       "7                                    1.982548   \n",
       "8                                         NaN   \n",
       "9                                         NaN   \n",
       "10                                        NaN   \n",
       "11                                        NaN   \n",
       "12                                        NaN   \n",
       "\n",
       "    GDP per capita (constant 2015 US$) [NY.GDP.PCAP.KD]  \\\n",
       "0                                          378.066303     \n",
       "1                                         1885.377336     \n",
       "2                                         3488.844491     \n",
       "3                                         2270.905181     \n",
       "4                                        11415.939509     \n",
       "5                                         3964.919874     \n",
       "6                                         1616.396701     \n",
       "7                                         1136.427693     \n",
       "8                                                 NaN     \n",
       "9                                                 NaN     \n",
       "10                                                NaN     \n",
       "11                                                NaN     \n",
       "12                                                NaN     \n",
       "\n",
       "    GDP (current US$) [NY.GDP.MKTP.CD] Gini index [SI.POV.GINI]  \n",
       "0                         1.715223e+10                       ..  \n",
       "1                         4.374153e+11                       ..  \n",
       "2                         3.019254e+09                       ..  \n",
       "3                         3.638489e+12                       ..  \n",
       "4                         6.590894e+09                       ..  \n",
       "5                         8.371614e+10                       ..  \n",
       "6                         3.378855e+11                       ..  \n",
       "7                         4.104777e+10                       ..  \n",
       "8                                  NaN                      NaN  \n",
       "9                                  NaN                      NaN  \n",
       "10                                 NaN                      NaN  \n",
       "11                                 NaN                      NaN  \n",
       "12                                 NaN                      NaN  "
      ]
     },
     "execution_count": 107,
     "metadata": {},
     "output_type": "execute_result"
    }
   ],
   "source": [
    "saarc"
   ]
  },
  {
   "cell_type": "code",
   "execution_count": 109,
   "id": "e1188e52-89ea-4494-8957-f2f14239c571",
   "metadata": {},
   "outputs": [],
   "source": [
    "saarc = saarc.iloc[:8, :]"
   ]
  },
  {
   "cell_type": "code",
   "execution_count": 123,
   "id": "1a8fbc69-be64-4253-82b4-80796d0a8d4b",
   "metadata": {},
   "outputs": [
    {
     "data": {
      "text/html": [
       "<div>\n",
       "<style scoped>\n",
       "    .dataframe tbody tr th:only-of-type {\n",
       "        vertical-align: middle;\n",
       "    }\n",
       "\n",
       "    .dataframe tbody tr th {\n",
       "        vertical-align: top;\n",
       "    }\n",
       "\n",
       "    .dataframe thead th {\n",
       "        text-align: right;\n",
       "    }\n",
       "</style>\n",
       "<table border=\"1\" class=\"dataframe\">\n",
       "  <thead>\n",
       "    <tr style=\"text-align: right;\">\n",
       "      <th></th>\n",
       "      <th>Time</th>\n",
       "      <th>Time Code</th>\n",
       "      <th>Country Name</th>\n",
       "      <th>Country Code</th>\n",
       "      <th>Population density (people per sq. km of land area) [EN.POP.DNST]</th>\n",
       "      <th>population</th>\n",
       "      <th>gdp_growth</th>\n",
       "      <th>gdp_per_capita</th>\n",
       "      <th>GDP (current US$) [NY.GDP.MKTP.CD]</th>\n",
       "      <th>Gini index [SI.POV.GINI]</th>\n",
       "      <th>population_million</th>\n",
       "    </tr>\n",
       "  </thead>\n",
       "  <tbody>\n",
       "    <tr>\n",
       "      <th>0</th>\n",
       "      <td>2023</td>\n",
       "      <td>YR2023</td>\n",
       "      <td>Afghanistan</td>\n",
       "      <td>AFG</td>\n",
       "      <td>..</td>\n",
       "      <td>4.145476e+07</td>\n",
       "      <td>2.266944</td>\n",
       "      <td>378.066303</td>\n",
       "      <td>1.715223e+10</td>\n",
       "      <td>..</td>\n",
       "      <td>41.454761</td>\n",
       "    </tr>\n",
       "    <tr>\n",
       "      <th>1</th>\n",
       "      <td>2023</td>\n",
       "      <td>YR2023</td>\n",
       "      <td>Bangladesh</td>\n",
       "      <td>BGD</td>\n",
       "      <td>..</td>\n",
       "      <td>1.714670e+08</td>\n",
       "      <td>5.775112</td>\n",
       "      <td>1885.377336</td>\n",
       "      <td>4.374153e+11</td>\n",
       "      <td>..</td>\n",
       "      <td>171.466990</td>\n",
       "    </tr>\n",
       "    <tr>\n",
       "      <th>2</th>\n",
       "      <td>2023</td>\n",
       "      <td>YR2023</td>\n",
       "      <td>Bhutan</td>\n",
       "      <td>BTN</td>\n",
       "      <td>..</td>\n",
       "      <td>7.863850e+05</td>\n",
       "      <td>4.882594</td>\n",
       "      <td>3488.844491</td>\n",
       "      <td>3.019254e+09</td>\n",
       "      <td>..</td>\n",
       "      <td>0.786385</td>\n",
       "    </tr>\n",
       "    <tr>\n",
       "      <th>3</th>\n",
       "      <td>2023</td>\n",
       "      <td>YR2023</td>\n",
       "      <td>India</td>\n",
       "      <td>IND</td>\n",
       "      <td>..</td>\n",
       "      <td>1.438070e+09</td>\n",
       "      <td>9.190755</td>\n",
       "      <td>2270.905181</td>\n",
       "      <td>3.638489e+12</td>\n",
       "      <td>..</td>\n",
       "      <td>1438.069596</td>\n",
       "    </tr>\n",
       "    <tr>\n",
       "      <th>4</th>\n",
       "      <td>2023</td>\n",
       "      <td>YR2023</td>\n",
       "      <td>Maldives</td>\n",
       "      <td>MDV</td>\n",
       "      <td>..</td>\n",
       "      <td>5.259940e+05</td>\n",
       "      <td>4.726392</td>\n",
       "      <td>11415.939509</td>\n",
       "      <td>6.590894e+09</td>\n",
       "      <td>..</td>\n",
       "      <td>0.525994</td>\n",
       "    </tr>\n",
       "    <tr>\n",
       "      <th>5</th>\n",
       "      <td>2023</td>\n",
       "      <td>YR2023</td>\n",
       "      <td>Sri Lanka</td>\n",
       "      <td>LKA</td>\n",
       "      <td>..</td>\n",
       "      <td>2.203700e+07</td>\n",
       "      <td>-2.329848</td>\n",
       "      <td>3964.919874</td>\n",
       "      <td>8.371614e+10</td>\n",
       "      <td>..</td>\n",
       "      <td>22.037000</td>\n",
       "    </tr>\n",
       "    <tr>\n",
       "      <th>6</th>\n",
       "      <td>2023</td>\n",
       "      <td>YR2023</td>\n",
       "      <td>Pakistan</td>\n",
       "      <td>PAK</td>\n",
       "      <td>..</td>\n",
       "      <td>2.475045e+08</td>\n",
       "      <td>-0.039839</td>\n",
       "      <td>1616.396701</td>\n",
       "      <td>3.378855e+11</td>\n",
       "      <td>..</td>\n",
       "      <td>247.504495</td>\n",
       "    </tr>\n",
       "    <tr>\n",
       "      <th>7</th>\n",
       "      <td>2023</td>\n",
       "      <td>YR2023</td>\n",
       "      <td>Nepal</td>\n",
       "      <td>NPL</td>\n",
       "      <td>..</td>\n",
       "      <td>2.969461e+07</td>\n",
       "      <td>1.982548</td>\n",
       "      <td>1136.427693</td>\n",
       "      <td>4.104777e+10</td>\n",
       "      <td>..</td>\n",
       "      <td>29.694614</td>\n",
       "    </tr>\n",
       "  </tbody>\n",
       "</table>\n",
       "</div>"
      ],
      "text/plain": [
       "   Time Time Code Country Name Country Code  \\\n",
       "0  2023    YR2023  Afghanistan          AFG   \n",
       "1  2023    YR2023   Bangladesh          BGD   \n",
       "2  2023    YR2023       Bhutan          BTN   \n",
       "3  2023    YR2023        India          IND   \n",
       "4  2023    YR2023     Maldives          MDV   \n",
       "5  2023    YR2023    Sri Lanka          LKA   \n",
       "6  2023    YR2023     Pakistan          PAK   \n",
       "7  2023    YR2023        Nepal          NPL   \n",
       "\n",
       "  Population density (people per sq. km of land area) [EN.POP.DNST]  \\\n",
       "0                                                 ..                  \n",
       "1                                                 ..                  \n",
       "2                                                 ..                  \n",
       "3                                                 ..                  \n",
       "4                                                 ..                  \n",
       "5                                                 ..                  \n",
       "6                                                 ..                  \n",
       "7                                                 ..                  \n",
       "\n",
       "     population  gdp_growth  gdp_per_capita  \\\n",
       "0  4.145476e+07    2.266944      378.066303   \n",
       "1  1.714670e+08    5.775112     1885.377336   \n",
       "2  7.863850e+05    4.882594     3488.844491   \n",
       "3  1.438070e+09    9.190755     2270.905181   \n",
       "4  5.259940e+05    4.726392    11415.939509   \n",
       "5  2.203700e+07   -2.329848     3964.919874   \n",
       "6  2.475045e+08   -0.039839     1616.396701   \n",
       "7  2.969461e+07    1.982548     1136.427693   \n",
       "\n",
       "   GDP (current US$) [NY.GDP.MKTP.CD] Gini index [SI.POV.GINI]  \\\n",
       "0                        1.715223e+10                       ..   \n",
       "1                        4.374153e+11                       ..   \n",
       "2                        3.019254e+09                       ..   \n",
       "3                        3.638489e+12                       ..   \n",
       "4                        6.590894e+09                       ..   \n",
       "5                        8.371614e+10                       ..   \n",
       "6                        3.378855e+11                       ..   \n",
       "7                        4.104777e+10                       ..   \n",
       "\n",
       "   population_million  \n",
       "0           41.454761  \n",
       "1          171.466990  \n",
       "2            0.786385  \n",
       "3         1438.069596  \n",
       "4            0.525994  \n",
       "5           22.037000  \n",
       "6          247.504495  \n",
       "7           29.694614  "
      ]
     },
     "execution_count": 123,
     "metadata": {},
     "output_type": "execute_result"
    }
   ],
   "source": [
    "saarc"
   ]
  },
  {
   "cell_type": "code",
   "execution_count": 124,
   "id": "f94fa5a1-ce42-4ee3-a44e-55761be943c4",
   "metadata": {},
   "outputs": [
    {
     "data": {
      "text/plain": [
       "(8, 11)"
      ]
     },
     "execution_count": 124,
     "metadata": {},
     "output_type": "execute_result"
    }
   ],
   "source": [
    "saarc.shape"
   ]
  },
  {
   "cell_type": "code",
   "execution_count": 112,
   "id": "5bc97e74-d5ab-44ca-8b43-67b55e702fa2",
   "metadata": {},
   "outputs": [
    {
     "data": {
      "text/plain": [
       "Time                                                                  object\n",
       "Time Code                                                             object\n",
       "Country Name                                                          object\n",
       "Country Code                                                          object\n",
       "Population density (people per sq. km of land area) [EN.POP.DNST]     object\n",
       "Population, total [SP.POP.TOTL]                                      float64\n",
       "GDP growth (annual %) [NY.GDP.MKTP.KD.ZG]                            float64\n",
       "GDP per capita (constant 2015 US$) [NY.GDP.PCAP.KD]                  float64\n",
       "GDP (current US$) [NY.GDP.MKTP.CD]                                   float64\n",
       "Gini index [SI.POV.GINI]                                              object\n",
       "dtype: object"
      ]
     },
     "execution_count": 112,
     "metadata": {},
     "output_type": "execute_result"
    }
   ],
   "source": [
    "saarc.dtypes"
   ]
  },
  {
   "cell_type": "code",
   "execution_count": 113,
   "id": "e24aa367-4beb-49ba-9010-dfb6a0a81765",
   "metadata": {},
   "outputs": [],
   "source": [
    "saarc = saarc.rename(columns = {\"Population, total [SP.POP.TOTL]\" : \"population\"})"
   ]
  },
  {
   "cell_type": "code",
   "execution_count": null,
   "id": "3ca40480-55ea-46db-95ee-d023b47dc392",
   "metadata": {},
   "outputs": [],
   "source": [
    "GDP growth (annual %) [NY.GDP.MKTP.KD.ZG]"
   ]
  },
  {
   "cell_type": "code",
   "execution_count": 115,
   "id": "b45ebf67-40d8-4fde-998a-179006f469db",
   "metadata": {},
   "outputs": [],
   "source": [
    "saarc = saarc.rename(columns = {\"GDP growth (annual %) [NY.GDP.MKTP.KD.ZG]\" : \"gdp_growth\"})"
   ]
  },
  {
   "cell_type": "code",
   "execution_count": 117,
   "id": "c140d6e5-2d79-4ce1-b668-4cbc0d8a130e",
   "metadata": {},
   "outputs": [],
   "source": [
    "saarc = saarc.rename(columns = {\"GDP per capita (constant 2015 US$) [NY.GDP.PCAP.KD]\" : \"gdp_per_capita\"})"
   ]
  },
  {
   "cell_type": "code",
   "execution_count": 121,
   "id": "0acf4cba-73c8-49fc-b6b7-720d37aa1f71",
   "metadata": {},
   "outputs": [
    {
     "name": "stdout",
     "output_type": "stream",
     "text": [
      "3269.61\n",
      "243942479.38\n"
     ]
    }
   ],
   "source": [
    "# Finding out summary statistics of a column\n",
    "print(saarc[\"gdp_per_capita\"].mean().round(2))\n",
    "print(saarc[\"population\"].mean().round(2))"
   ]
  },
  {
   "cell_type": "code",
   "execution_count": 122,
   "id": "a6b0bf22-e4b8-4ec4-88f2-81b67cab400f",
   "metadata": {},
   "outputs": [],
   "source": [
    "saarc['population_million'] = saarc['population']/1000000"
   ]
  },
  {
   "cell_type": "code",
   "execution_count": 125,
   "id": "17702c00-7da5-400e-b1f4-4f20ec2b8411",
   "metadata": {},
   "outputs": [
    {
     "data": {
      "text/html": [
       "<div>\n",
       "<style scoped>\n",
       "    .dataframe tbody tr th:only-of-type {\n",
       "        vertical-align: middle;\n",
       "    }\n",
       "\n",
       "    .dataframe tbody tr th {\n",
       "        vertical-align: top;\n",
       "    }\n",
       "\n",
       "    .dataframe thead th {\n",
       "        text-align: right;\n",
       "    }\n",
       "</style>\n",
       "<table border=\"1\" class=\"dataframe\">\n",
       "  <thead>\n",
       "    <tr style=\"text-align: right;\">\n",
       "      <th></th>\n",
       "      <th>country</th>\n",
       "      <th>capital</th>\n",
       "      <th>area</th>\n",
       "      <th>population</th>\n",
       "    </tr>\n",
       "  </thead>\n",
       "  <tbody>\n",
       "    <tr>\n",
       "      <th>0</th>\n",
       "      <td>Brazil</td>\n",
       "      <td>Brasilia</td>\n",
       "      <td>8.516</td>\n",
       "      <td>200.40</td>\n",
       "    </tr>\n",
       "    <tr>\n",
       "      <th>1</th>\n",
       "      <td>Russia</td>\n",
       "      <td>Moscow</td>\n",
       "      <td>17.100</td>\n",
       "      <td>143.50</td>\n",
       "    </tr>\n",
       "    <tr>\n",
       "      <th>2</th>\n",
       "      <td>India</td>\n",
       "      <td>New Delhi</td>\n",
       "      <td>3.286</td>\n",
       "      <td>1252.00</td>\n",
       "    </tr>\n",
       "    <tr>\n",
       "      <th>3</th>\n",
       "      <td>China</td>\n",
       "      <td>Beijing</td>\n",
       "      <td>9.597</td>\n",
       "      <td>1357.00</td>\n",
       "    </tr>\n",
       "    <tr>\n",
       "      <th>4</th>\n",
       "      <td>South Africa</td>\n",
       "      <td>Pretoria</td>\n",
       "      <td>1.221</td>\n",
       "      <td>52.98</td>\n",
       "    </tr>\n",
       "  </tbody>\n",
       "</table>\n",
       "</div>"
      ],
      "text/plain": [
       "        country    capital    area  population\n",
       "0        Brazil   Brasilia   8.516      200.40\n",
       "1        Russia     Moscow  17.100      143.50\n",
       "2         India  New Delhi   3.286     1252.00\n",
       "3         China    Beijing   9.597     1357.00\n",
       "4  South Africa   Pretoria   1.221       52.98"
      ]
     },
     "execution_count": 125,
     "metadata": {},
     "output_type": "execute_result"
    }
   ],
   "source": [
    "brics"
   ]
  },
  {
   "cell_type": "code",
   "execution_count": 126,
   "id": "9cb190f1-f4f2-4c38-9c70-1ca5fca46dff",
   "metadata": {},
   "outputs": [
    {
     "data": {
      "text/html": [
       "<div>\n",
       "<style scoped>\n",
       "    .dataframe tbody tr th:only-of-type {\n",
       "        vertical-align: middle;\n",
       "    }\n",
       "\n",
       "    .dataframe tbody tr th {\n",
       "        vertical-align: top;\n",
       "    }\n",
       "\n",
       "    .dataframe thead th {\n",
       "        text-align: right;\n",
       "    }\n",
       "</style>\n",
       "<table border=\"1\" class=\"dataframe\">\n",
       "  <thead>\n",
       "    <tr style=\"text-align: right;\">\n",
       "      <th></th>\n",
       "      <th>Time</th>\n",
       "      <th>Time Code</th>\n",
       "      <th>Country Name</th>\n",
       "      <th>Country Code</th>\n",
       "      <th>Population density (people per sq. km of land area) [EN.POP.DNST]</th>\n",
       "      <th>population</th>\n",
       "      <th>gdp_growth</th>\n",
       "      <th>gdp_per_capita</th>\n",
       "      <th>GDP (current US$) [NY.GDP.MKTP.CD]</th>\n",
       "      <th>Gini index [SI.POV.GINI]</th>\n",
       "      <th>population_million</th>\n",
       "    </tr>\n",
       "  </thead>\n",
       "  <tbody>\n",
       "    <tr>\n",
       "      <th>0</th>\n",
       "      <td>2023</td>\n",
       "      <td>YR2023</td>\n",
       "      <td>Afghanistan</td>\n",
       "      <td>AFG</td>\n",
       "      <td>..</td>\n",
       "      <td>4.145476e+07</td>\n",
       "      <td>2.266944</td>\n",
       "      <td>378.066303</td>\n",
       "      <td>1.715223e+10</td>\n",
       "      <td>..</td>\n",
       "      <td>41.454761</td>\n",
       "    </tr>\n",
       "    <tr>\n",
       "      <th>1</th>\n",
       "      <td>2023</td>\n",
       "      <td>YR2023</td>\n",
       "      <td>Bangladesh</td>\n",
       "      <td>BGD</td>\n",
       "      <td>..</td>\n",
       "      <td>1.714670e+08</td>\n",
       "      <td>5.775112</td>\n",
       "      <td>1885.377336</td>\n",
       "      <td>4.374153e+11</td>\n",
       "      <td>..</td>\n",
       "      <td>171.466990</td>\n",
       "    </tr>\n",
       "    <tr>\n",
       "      <th>2</th>\n",
       "      <td>2023</td>\n",
       "      <td>YR2023</td>\n",
       "      <td>Bhutan</td>\n",
       "      <td>BTN</td>\n",
       "      <td>..</td>\n",
       "      <td>7.863850e+05</td>\n",
       "      <td>4.882594</td>\n",
       "      <td>3488.844491</td>\n",
       "      <td>3.019254e+09</td>\n",
       "      <td>..</td>\n",
       "      <td>0.786385</td>\n",
       "    </tr>\n",
       "    <tr>\n",
       "      <th>3</th>\n",
       "      <td>2023</td>\n",
       "      <td>YR2023</td>\n",
       "      <td>India</td>\n",
       "      <td>IND</td>\n",
       "      <td>..</td>\n",
       "      <td>1.438070e+09</td>\n",
       "      <td>9.190755</td>\n",
       "      <td>2270.905181</td>\n",
       "      <td>3.638489e+12</td>\n",
       "      <td>..</td>\n",
       "      <td>1438.069596</td>\n",
       "    </tr>\n",
       "    <tr>\n",
       "      <th>4</th>\n",
       "      <td>2023</td>\n",
       "      <td>YR2023</td>\n",
       "      <td>Maldives</td>\n",
       "      <td>MDV</td>\n",
       "      <td>..</td>\n",
       "      <td>5.259940e+05</td>\n",
       "      <td>4.726392</td>\n",
       "      <td>11415.939509</td>\n",
       "      <td>6.590894e+09</td>\n",
       "      <td>..</td>\n",
       "      <td>0.525994</td>\n",
       "    </tr>\n",
       "    <tr>\n",
       "      <th>5</th>\n",
       "      <td>2023</td>\n",
       "      <td>YR2023</td>\n",
       "      <td>Sri Lanka</td>\n",
       "      <td>LKA</td>\n",
       "      <td>..</td>\n",
       "      <td>2.203700e+07</td>\n",
       "      <td>-2.329848</td>\n",
       "      <td>3964.919874</td>\n",
       "      <td>8.371614e+10</td>\n",
       "      <td>..</td>\n",
       "      <td>22.037000</td>\n",
       "    </tr>\n",
       "    <tr>\n",
       "      <th>6</th>\n",
       "      <td>2023</td>\n",
       "      <td>YR2023</td>\n",
       "      <td>Pakistan</td>\n",
       "      <td>PAK</td>\n",
       "      <td>..</td>\n",
       "      <td>2.475045e+08</td>\n",
       "      <td>-0.039839</td>\n",
       "      <td>1616.396701</td>\n",
       "      <td>3.378855e+11</td>\n",
       "      <td>..</td>\n",
       "      <td>247.504495</td>\n",
       "    </tr>\n",
       "    <tr>\n",
       "      <th>7</th>\n",
       "      <td>2023</td>\n",
       "      <td>YR2023</td>\n",
       "      <td>Nepal</td>\n",
       "      <td>NPL</td>\n",
       "      <td>..</td>\n",
       "      <td>2.969461e+07</td>\n",
       "      <td>1.982548</td>\n",
       "      <td>1136.427693</td>\n",
       "      <td>4.104777e+10</td>\n",
       "      <td>..</td>\n",
       "      <td>29.694614</td>\n",
       "    </tr>\n",
       "  </tbody>\n",
       "</table>\n",
       "</div>"
      ],
      "text/plain": [
       "   Time Time Code Country Name Country Code  \\\n",
       "0  2023    YR2023  Afghanistan          AFG   \n",
       "1  2023    YR2023   Bangladesh          BGD   \n",
       "2  2023    YR2023       Bhutan          BTN   \n",
       "3  2023    YR2023        India          IND   \n",
       "4  2023    YR2023     Maldives          MDV   \n",
       "5  2023    YR2023    Sri Lanka          LKA   \n",
       "6  2023    YR2023     Pakistan          PAK   \n",
       "7  2023    YR2023        Nepal          NPL   \n",
       "\n",
       "  Population density (people per sq. km of land area) [EN.POP.DNST]  \\\n",
       "0                                                 ..                  \n",
       "1                                                 ..                  \n",
       "2                                                 ..                  \n",
       "3                                                 ..                  \n",
       "4                                                 ..                  \n",
       "5                                                 ..                  \n",
       "6                                                 ..                  \n",
       "7                                                 ..                  \n",
       "\n",
       "     population  gdp_growth  gdp_per_capita  \\\n",
       "0  4.145476e+07    2.266944      378.066303   \n",
       "1  1.714670e+08    5.775112     1885.377336   \n",
       "2  7.863850e+05    4.882594     3488.844491   \n",
       "3  1.438070e+09    9.190755     2270.905181   \n",
       "4  5.259940e+05    4.726392    11415.939509   \n",
       "5  2.203700e+07   -2.329848     3964.919874   \n",
       "6  2.475045e+08   -0.039839     1616.396701   \n",
       "7  2.969461e+07    1.982548     1136.427693   \n",
       "\n",
       "   GDP (current US$) [NY.GDP.MKTP.CD] Gini index [SI.POV.GINI]  \\\n",
       "0                        1.715223e+10                       ..   \n",
       "1                        4.374153e+11                       ..   \n",
       "2                        3.019254e+09                       ..   \n",
       "3                        3.638489e+12                       ..   \n",
       "4                        6.590894e+09                       ..   \n",
       "5                        8.371614e+10                       ..   \n",
       "6                        3.378855e+11                       ..   \n",
       "7                        4.104777e+10                       ..   \n",
       "\n",
       "   population_million  \n",
       "0           41.454761  \n",
       "1          171.466990  \n",
       "2            0.786385  \n",
       "3         1438.069596  \n",
       "4            0.525994  \n",
       "5           22.037000  \n",
       "6          247.504495  \n",
       "7           29.694614  "
      ]
     },
     "execution_count": 126,
     "metadata": {},
     "output_type": "execute_result"
    }
   ],
   "source": [
    "saarc"
   ]
  },
  {
   "cell_type": "code",
   "execution_count": null,
   "id": "0ce2b8db-543d-4098-a44c-b6346bce8cbb",
   "metadata": {},
   "outputs": [],
   "source": []
  },
  {
   "cell_type": "code",
   "execution_count": 127,
   "id": "d532a34b-5d83-453b-ae3c-2af208fdc648",
   "metadata": {},
   "outputs": [],
   "source": [
    "brics_country = set(brics['country'].unique())"
   ]
  },
  {
   "cell_type": "code",
   "execution_count": 128,
   "id": "c47ccde8-9ff6-4cc3-af75-4cd2e1160282",
   "metadata": {},
   "outputs": [
    {
     "data": {
      "text/plain": [
       "{'Brazil', 'China', 'India', 'Russia', 'South Africa'}"
      ]
     },
     "execution_count": 128,
     "metadata": {},
     "output_type": "execute_result"
    }
   ],
   "source": [
    "brics_country"
   ]
  },
  {
   "cell_type": "code",
   "execution_count": 129,
   "id": "44c527c4-5372-4ecd-8868-75da2869c523",
   "metadata": {},
   "outputs": [],
   "source": [
    "saarc_country = set(saarc['Country Name'].unique())"
   ]
  },
  {
   "cell_type": "code",
   "execution_count": 130,
   "id": "d1091f17-dea1-4216-957e-167f2d3be7d3",
   "metadata": {},
   "outputs": [
    {
     "data": {
      "text/plain": [
       "{'Brazil', 'China', 'Russia', 'South Africa'}"
      ]
     },
     "execution_count": 130,
     "metadata": {},
     "output_type": "execute_result"
    }
   ],
   "source": [
    "brics_country - saarc_country"
   ]
  },
  {
   "cell_type": "code",
   "execution_count": 131,
   "id": "96455adb-4a6d-4545-83b5-807db4bba926",
   "metadata": {},
   "outputs": [
    {
     "data": {
      "text/plain": [
       "{'Afghanistan',\n",
       " 'Bangladesh',\n",
       " 'Bhutan',\n",
       " 'Maldives',\n",
       " 'Nepal',\n",
       " 'Pakistan',\n",
       " 'Sri Lanka'}"
      ]
     },
     "execution_count": 131,
     "metadata": {},
     "output_type": "execute_result"
    }
   ],
   "source": [
    "saarc_country - brics_country"
   ]
  },
  {
   "cell_type": "code",
   "execution_count": 132,
   "id": "866fee10-35f1-4a0e-8c4d-1eb4cfb2a1eb",
   "metadata": {},
   "outputs": [
    {
     "data": {
      "text/plain": [
       "{'India'}"
      ]
     },
     "execution_count": 132,
     "metadata": {},
     "output_type": "execute_result"
    }
   ],
   "source": [
    "saarc_country & brics_country"
   ]
  },
  {
   "cell_type": "code",
   "execution_count": 137,
   "id": "2f8aa5ea-bf4b-426b-91d0-b0d7e9ca2365",
   "metadata": {},
   "outputs": [
    {
     "data": {
      "text/html": [
       "<div>\n",
       "<style scoped>\n",
       "    .dataframe tbody tr th:only-of-type {\n",
       "        vertical-align: middle;\n",
       "    }\n",
       "\n",
       "    .dataframe tbody tr th {\n",
       "        vertical-align: top;\n",
       "    }\n",
       "\n",
       "    .dataframe thead th {\n",
       "        text-align: right;\n",
       "    }\n",
       "</style>\n",
       "<table border=\"1\" class=\"dataframe\">\n",
       "  <thead>\n",
       "    <tr style=\"text-align: right;\">\n",
       "      <th></th>\n",
       "      <th>country</th>\n",
       "      <th>capital</th>\n",
       "      <th>area</th>\n",
       "      <th>population</th>\n",
       "    </tr>\n",
       "  </thead>\n",
       "  <tbody>\n",
       "    <tr>\n",
       "      <th>0</th>\n",
       "      <td>Brazil</td>\n",
       "      <td>Brasilia</td>\n",
       "      <td>8.516</td>\n",
       "      <td>200.40</td>\n",
       "    </tr>\n",
       "    <tr>\n",
       "      <th>1</th>\n",
       "      <td>Russia</td>\n",
       "      <td>Moscow</td>\n",
       "      <td>17.100</td>\n",
       "      <td>143.50</td>\n",
       "    </tr>\n",
       "    <tr>\n",
       "      <th>2</th>\n",
       "      <td>India</td>\n",
       "      <td>New Delhi</td>\n",
       "      <td>3.286</td>\n",
       "      <td>1252.00</td>\n",
       "    </tr>\n",
       "    <tr>\n",
       "      <th>3</th>\n",
       "      <td>China</td>\n",
       "      <td>Beijing</td>\n",
       "      <td>9.597</td>\n",
       "      <td>1357.00</td>\n",
       "    </tr>\n",
       "    <tr>\n",
       "      <th>4</th>\n",
       "      <td>South Africa</td>\n",
       "      <td>Pretoria</td>\n",
       "      <td>1.221</td>\n",
       "      <td>52.98</td>\n",
       "    </tr>\n",
       "  </tbody>\n",
       "</table>\n",
       "</div>"
      ],
      "text/plain": [
       "        country    capital    area  population\n",
       "0        Brazil   Brasilia   8.516      200.40\n",
       "1        Russia     Moscow  17.100      143.50\n",
       "2         India  New Delhi   3.286     1252.00\n",
       "3         China    Beijing   9.597     1357.00\n",
       "4  South Africa   Pretoria   1.221       52.98"
      ]
     },
     "execution_count": 137,
     "metadata": {},
     "output_type": "execute_result"
    }
   ],
   "source": [
    "brics"
   ]
  },
  {
   "cell_type": "code",
   "execution_count": 133,
   "id": "725feb1a-cfd9-4df5-b9d7-9ee8c9a8e5c9",
   "metadata": {},
   "outputs": [
    {
     "data": {
      "text/plain": [
       "601.176"
      ]
     },
     "execution_count": 133,
     "metadata": {},
     "output_type": "execute_result"
    }
   ],
   "source": [
    "brics['population'].mean() "
   ]
  },
  {
   "cell_type": "code",
   "execution_count": 134,
   "id": "48f589a9-5708-41bf-aa07-04e6f1a916b7",
   "metadata": {},
   "outputs": [
    {
     "data": {
      "text/plain": [
       "243.94"
      ]
     },
     "execution_count": 134,
     "metadata": {},
     "output_type": "execute_result"
    }
   ],
   "source": [
    "saarc['population_million'].mean().round(2)"
   ]
  },
  {
   "cell_type": "code",
   "execution_count": 135,
   "id": "99135b8a-f5e8-43c0-9845-1501e5dfc91c",
   "metadata": {},
   "outputs": [
    {
     "data": {
      "text/plain": [
       "False"
      ]
     },
     "execution_count": 135,
     "metadata": {},
     "output_type": "execute_result"
    }
   ],
   "source": [
    "brics['population'].mean() == saarc['population_million'].mean().round(2)"
   ]
  },
  {
   "cell_type": "code",
   "execution_count": 136,
   "id": "fad1e018-806c-4adc-925b-bb8fe21092c3",
   "metadata": {},
   "outputs": [
    {
     "data": {
      "text/plain": [
       "True"
      ]
     },
     "execution_count": 136,
     "metadata": {},
     "output_type": "execute_result"
    }
   ],
   "source": [
    "brics['population'].mean() > saarc['population_million'].mean().round(2)"
   ]
  },
  {
   "cell_type": "code",
   "execution_count": null,
   "id": "b12f94cd-ed91-45b6-8070-9c6dc96ca9a2",
   "metadata": {},
   "outputs": [],
   "source": []
  }
 ],
 "metadata": {
  "kernelspec": {
   "display_name": "Python 3 (ipykernel)",
   "language": "python",
   "name": "python3"
  },
  "language_info": {
   "codemirror_mode": {
    "name": "ipython",
    "version": 3
   },
   "file_extension": ".py",
   "mimetype": "text/x-python",
   "name": "python",
   "nbconvert_exporter": "python",
   "pygments_lexer": "ipython3",
   "version": "3.12.7"
  }
 },
 "nbformat": 4,
 "nbformat_minor": 5
}
