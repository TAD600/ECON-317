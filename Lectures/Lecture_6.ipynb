{
 "cells": [
  {
   "cell_type": "code",
   "execution_count": 1,
   "id": "60113201-b211-4136-b57e-2e4ff747af2d",
   "metadata": {},
   "outputs": [],
   "source": [
    "import pandas as pd"
   ]
  },
  {
   "cell_type": "markdown",
   "id": "72d9c8ee-ff2d-44ad-9e31-21222aa516a4",
   "metadata": {},
   "source": [
    "Today we will try to cover:\n",
    "1. soritng and subsetting dataframes\n",
    "2. adding/dropping new column\n",
    "3. merging/concatenating\n",
    "4. handling missing values"
   ]
  },
  {
   "cell_type": "code",
   "execution_count": 30,
   "id": "e0348461-7b73-41c0-a78f-d94628313d99",
   "metadata": {},
   "outputs": [],
   "source": [
    "wdi1 = pd.read_csv(\"89212a48-65f9-401b-96ce-693038eaf7e0_Data.csv\")\n",
    "wdi2 = pd.read_csv(\"d92eb14e-b603-4183-ac5b-acfd4c423b78_Data.csv\")\n",
    "cepii = pd.read_csv(\"geo_cepii.csv\", encoding='latin1')"
   ]
  },
  {
   "cell_type": "code",
   "execution_count": null,
   "id": "66a53f6e-bfba-4aa5-b868-f484fdcdf5d0",
   "metadata": {},
   "outputs": [],
   "source": [
    "# Exploring"
   ]
  },
  {
   "cell_type": "code",
   "execution_count": null,
   "id": "4232a46a-611d-437d-906f-0e8601b186bf",
   "metadata": {},
   "outputs": [],
   "source": []
  },
  {
   "cell_type": "code",
   "execution_count": null,
   "id": "8402a6fb-1250-48a8-b5e8-a3c9f5010405",
   "metadata": {},
   "outputs": [],
   "source": []
  },
  {
   "cell_type": "code",
   "execution_count": null,
   "id": "f05f0a50-1f9e-4fd5-81f7-d3e9b8f73f7e",
   "metadata": {},
   "outputs": [],
   "source": []
  },
  {
   "cell_type": "code",
   "execution_count": 25,
   "id": "0cfe034c-66ad-427a-8074-0625b8cbce05",
   "metadata": {},
   "outputs": [],
   "source": [
    "# Fixing year column names from WDI data\n",
    "wdi2.columns = wdi2.columns.str.replace(r' \\[YR\\d+\\]', '', regex=True)"
   ]
  },
  {
   "cell_type": "code",
   "execution_count": null,
   "id": "55e8ac03-b58a-4bf4-bd68-2feecb050946",
   "metadata": {},
   "outputs": [],
   "source": [
    "# changing data type"
   ]
  },
  {
   "cell_type": "code",
   "execution_count": null,
   "id": "93749247-b1b4-4f0d-9e05-41d8a09cc506",
   "metadata": {},
   "outputs": [],
   "source": []
  },
  {
   "cell_type": "code",
   "execution_count": null,
   "id": "64e27687-0a64-4ce0-9204-0c7b98038a4c",
   "metadata": {},
   "outputs": [],
   "source": []
  },
  {
   "cell_type": "code",
   "execution_count": null,
   "id": "5fb366c1-c3e7-49c5-9478-e3d0cc535a26",
   "metadata": {},
   "outputs": [],
   "source": []
  },
  {
   "cell_type": "code",
   "execution_count": null,
   "id": "fca9d528-bd1b-48ef-904e-1dad76f33f05",
   "metadata": {},
   "outputs": [],
   "source": []
  },
  {
   "cell_type": "code",
   "execution_count": null,
   "id": "43fa7f4c-155f-4a9b-a366-a27ca84b0ed0",
   "metadata": {},
   "outputs": [],
   "source": []
  },
  {
   "cell_type": "code",
   "execution_count": null,
   "id": "ba5e3885-b55d-41e0-8067-dce67c9d7fba",
   "metadata": {},
   "outputs": [],
   "source": []
  },
  {
   "cell_type": "code",
   "execution_count": null,
   "id": "c8cf73af-ca9e-415d-86af-f823e39b06f3",
   "metadata": {},
   "outputs": [],
   "source": [
    "# checking for duplicates"
   ]
  },
  {
   "cell_type": "code",
   "execution_count": null,
   "id": "04e1486e-fad5-450d-a0f8-0ea93e9a95c4",
   "metadata": {},
   "outputs": [],
   "source": []
  },
  {
   "cell_type": "code",
   "execution_count": null,
   "id": "9fe56060-fab2-4e1f-be2c-3157237b41fa",
   "metadata": {},
   "outputs": [],
   "source": []
  },
  {
   "cell_type": "code",
   "execution_count": null,
   "id": "5c9e36a0-ef28-4798-b20f-aff860cb7e59",
   "metadata": {},
   "outputs": [],
   "source": []
  },
  {
   "cell_type": "code",
   "execution_count": null,
   "id": "d9fde683-979b-414b-ba77-f616d6205861",
   "metadata": {},
   "outputs": [],
   "source": []
  },
  {
   "cell_type": "code",
   "execution_count": null,
   "id": "04a0c2d1-a084-46ab-a9ec-2a2604bc7dd1",
   "metadata": {},
   "outputs": [],
   "source": []
  },
  {
   "cell_type": "code",
   "execution_count": null,
   "id": "3f6b159a-00e3-4981-93ac-236ec64501b3",
   "metadata": {},
   "outputs": [],
   "source": []
  },
  {
   "cell_type": "code",
   "execution_count": null,
   "id": "773c9810-407e-42ed-89c3-6403c09913db",
   "metadata": {},
   "outputs": [],
   "source": [
    "# Renaming"
   ]
  },
  {
   "cell_type": "code",
   "execution_count": null,
   "id": "e28b26d8-b667-4647-bb1c-e821aa6b189d",
   "metadata": {},
   "outputs": [],
   "source": []
  },
  {
   "cell_type": "code",
   "execution_count": null,
   "id": "b990ed44-1d9a-4006-b869-04d1c7685147",
   "metadata": {},
   "outputs": [],
   "source": []
  },
  {
   "cell_type": "code",
   "execution_count": null,
   "id": "35308991-d08d-496f-870c-95654e2b4fb0",
   "metadata": {},
   "outputs": [],
   "source": []
  },
  {
   "cell_type": "code",
   "execution_count": null,
   "id": "231c4d56-2e02-4167-810f-6e94da23a88a",
   "metadata": {},
   "outputs": [],
   "source": [
    "# Soring"
   ]
  },
  {
   "cell_type": "code",
   "execution_count": null,
   "id": "3c7f3fe0-1369-47d8-928a-d6ca1c963842",
   "metadata": {},
   "outputs": [],
   "source": [
    "# In descenting order"
   ]
  },
  {
   "cell_type": "code",
   "execution_count": null,
   "id": "03923892-1535-4576-8933-85049312756e",
   "metadata": {},
   "outputs": [],
   "source": []
  },
  {
   "cell_type": "code",
   "execution_count": null,
   "id": "46ff1f91-6da9-4863-b43a-346e37247a3d",
   "metadata": {},
   "outputs": [],
   "source": []
  },
  {
   "cell_type": "code",
   "execution_count": null,
   "id": "b48a5ca0-2f8c-4bed-ada0-7cc4f099edf3",
   "metadata": {},
   "outputs": [],
   "source": [
    "# In descending order"
   ]
  },
  {
   "cell_type": "code",
   "execution_count": null,
   "id": "e32864bd-01a5-4e28-94c5-6c54e4dabe9a",
   "metadata": {},
   "outputs": [],
   "source": []
  },
  {
   "cell_type": "code",
   "execution_count": null,
   "id": "1ce973f8-f5c5-4946-92e2-5c0953effb22",
   "metadata": {},
   "outputs": [],
   "source": []
  },
  {
   "cell_type": "code",
   "execution_count": null,
   "id": "ab222528-48cf-44c7-b31e-0d67b5facfbe",
   "metadata": {},
   "outputs": [],
   "source": [
    "# with multiple columns"
   ]
  },
  {
   "cell_type": "code",
   "execution_count": null,
   "id": "79a30e72-6812-4964-bc91-36a98168d062",
   "metadata": {},
   "outputs": [],
   "source": []
  },
  {
   "cell_type": "code",
   "execution_count": null,
   "id": "84c14530-038d-4163-83ef-5ccd3d4c7247",
   "metadata": {},
   "outputs": [],
   "source": []
  },
  {
   "cell_type": "code",
   "execution_count": null,
   "id": "153868b0-fe22-4fca-9e1d-88a8476aa4ca",
   "metadata": {},
   "outputs": [],
   "source": [
    "# sorting multiple columns with different order"
   ]
  },
  {
   "cell_type": "code",
   "execution_count": null,
   "id": "5e64b376-7a2c-4175-b78b-b50b2fbd1fbf",
   "metadata": {},
   "outputs": [],
   "source": []
  },
  {
   "cell_type": "code",
   "execution_count": null,
   "id": "5f1c072a-5a91-4f1d-9fbe-f1c13576bd21",
   "metadata": {},
   "outputs": [],
   "source": []
  },
  {
   "cell_type": "code",
   "execution_count": null,
   "id": "8acbeda6-3236-4962-b387-c24c560193ef",
   "metadata": {},
   "outputs": [],
   "source": [
    "# Subsetting and slicing"
   ]
  },
  {
   "cell_type": "code",
   "execution_count": null,
   "id": "3444e103-3776-46d3-a3a6-7aea96bad2d8",
   "metadata": {},
   "outputs": [],
   "source": [
    "# Subsetting columns"
   ]
  },
  {
   "cell_type": "code",
   "execution_count": null,
   "id": "0fb411a0-4474-46d1-b29b-8ce62093f2d5",
   "metadata": {},
   "outputs": [],
   "source": []
  },
  {
   "cell_type": "code",
   "execution_count": null,
   "id": "fecdfa38-5310-41cc-aabc-15bcd623222d",
   "metadata": {},
   "outputs": [],
   "source": []
  },
  {
   "cell_type": "code",
   "execution_count": null,
   "id": "a9b37d85-b266-41e3-9036-dce0f531ede7",
   "metadata": {},
   "outputs": [],
   "source": [
    "# Subsetting rows "
   ]
  },
  {
   "cell_type": "code",
   "execution_count": null,
   "id": "bd57896e-f2ad-4895-8c49-bece057632d5",
   "metadata": {},
   "outputs": [],
   "source": [
    "# based on digits"
   ]
  },
  {
   "cell_type": "code",
   "execution_count": null,
   "id": "84f3056f-4b51-4d12-872b-f1fc2fe87e5f",
   "metadata": {},
   "outputs": [],
   "source": []
  },
  {
   "cell_type": "code",
   "execution_count": null,
   "id": "6188852c-cfaa-4db4-98be-436054df6e54",
   "metadata": {},
   "outputs": [],
   "source": []
  },
  {
   "cell_type": "code",
   "execution_count": null,
   "id": "d8037694-15ce-4181-97b6-e272a8ce0687",
   "metadata": {},
   "outputs": [],
   "source": [
    "# based on text data"
   ]
  },
  {
   "cell_type": "code",
   "execution_count": null,
   "id": "343f6f30-2178-432f-bd2f-bf265bd61ff4",
   "metadata": {},
   "outputs": [],
   "source": []
  },
  {
   "cell_type": "code",
   "execution_count": null,
   "id": "4603d672-d9f9-4b73-a039-b117031fc142",
   "metadata": {},
   "outputs": [],
   "source": []
  },
  {
   "cell_type": "code",
   "execution_count": null,
   "id": "ac0fb870-436d-4d4a-94c5-f5ac5d66980f",
   "metadata": {},
   "outputs": [],
   "source": []
  },
  {
   "cell_type": "code",
   "execution_count": null,
   "id": "6b4b00fe-32e1-4e3f-a5f1-00fc593748e3",
   "metadata": {},
   "outputs": [],
   "source": [
    "# Looking for a specific value"
   ]
  },
  {
   "cell_type": "code",
   "execution_count": null,
   "id": "f814ddcc-0f5e-4e23-8622-73a09da46a0c",
   "metadata": {},
   "outputs": [],
   "source": []
  },
  {
   "cell_type": "code",
   "execution_count": null,
   "id": "b4d0add1-2097-4eea-92a9-f58db0cc7727",
   "metadata": {},
   "outputs": [],
   "source": []
  },
  {
   "cell_type": "code",
   "execution_count": null,
   "id": "0db50d52-1a25-403c-8870-61344bb8ed26",
   "metadata": {},
   "outputs": [],
   "source": [
    "# Summary statistics"
   ]
  },
  {
   "cell_type": "code",
   "execution_count": null,
   "id": "f5fb1013-4b7a-43f0-916e-f708bef966c6",
   "metadata": {},
   "outputs": [],
   "source": [
    "#.median() , .mode(), .min() , .max(), .var() , .std(), .sum(), .quantile()"
   ]
  },
  {
   "cell_type": "code",
   "execution_count": 27,
   "id": "1ffb33a2-4eb4-4ae1-b625-c6ea8b2bf765",
   "metadata": {},
   "outputs": [],
   "source": [
    "#wdi1['GDP (constant 2015 US$) [NY.GDP.MKTP.KD]'].quantile(0.3)"
   ]
  },
  {
   "cell_type": "code",
   "execution_count": null,
   "id": "f5155b44-2972-4ee0-8328-28dd69e26aeb",
   "metadata": {},
   "outputs": [],
   "source": []
  },
  {
   "cell_type": "code",
   "execution_count": null,
   "id": "eb82c48d-cdbb-4172-8070-fac5cc4b9670",
   "metadata": {},
   "outputs": [],
   "source": []
  },
  {
   "cell_type": "code",
   "execution_count": null,
   "id": "b4430764-e75c-492c-bc4d-85a60b6ed8b7",
   "metadata": {},
   "outputs": [],
   "source": []
  },
  {
   "cell_type": "code",
   "execution_count": null,
   "id": "879aeb2b-9c9a-4749-887f-46f048d0463b",
   "metadata": {},
   "outputs": [],
   "source": [
    "# Aggregated summary statistics"
   ]
  },
  {
   "cell_type": "code",
   "execution_count": null,
   "id": "676f9865-51c1-4c52-bb5d-3515dcaaf06c",
   "metadata": {},
   "outputs": [],
   "source": [
    "# Merging"
   ]
  },
  {
   "cell_type": "code",
   "execution_count": null,
   "id": "72d7f176-0768-4ff5-9005-dac6612ee3d2",
   "metadata": {},
   "outputs": [],
   "source": []
  },
  {
   "cell_type": "code",
   "execution_count": null,
   "id": "707357aa-cadc-4e9e-b736-7d653c39088a",
   "metadata": {},
   "outputs": [],
   "source": []
  },
  {
   "cell_type": "code",
   "execution_count": null,
   "id": "7ad38a0b-51a5-4434-b6c6-ed47012158c3",
   "metadata": {},
   "outputs": [],
   "source": []
  },
  {
   "cell_type": "code",
   "execution_count": null,
   "id": "ad6cd968-bd23-4f53-b391-23ee31d15832",
   "metadata": {},
   "outputs": [],
   "source": []
  },
  {
   "cell_type": "code",
   "execution_count": null,
   "id": "2b40954e-a299-492d-8f34-21021c9feedc",
   "metadata": {},
   "outputs": [],
   "source": []
  },
  {
   "cell_type": "code",
   "execution_count": null,
   "id": "6e99fb1c-d547-4795-bc05-8ea802d77b7c",
   "metadata": {},
   "outputs": [],
   "source": []
  },
  {
   "cell_type": "code",
   "execution_count": null,
   "id": "feb34f3c-fcf1-422f-948e-6281bda0e12d",
   "metadata": {},
   "outputs": [],
   "source": []
  },
  {
   "cell_type": "code",
   "execution_count": 42,
   "id": "2782b41c-37df-462f-98b4-40bba73605e0",
   "metadata": {},
   "outputs": [],
   "source": [
    "# Visualization"
   ]
  },
  {
   "cell_type": "code",
   "execution_count": 35,
   "id": "2161344d-4fbf-464c-9b98-777290f56803",
   "metadata": {},
   "outputs": [],
   "source": [
    "import matplotlib.pyplot as plt"
   ]
  },
  {
   "cell_type": "code",
   "execution_count": 39,
   "id": "019fa834-6988-415e-977e-666d9ff46aa8",
   "metadata": {},
   "outputs": [
    {
     "data": {
      "image/png": "[encoded data removed]",
      "text/plain": [
       "<Figure size 640x480 with 1 Axes>"
      ]
     },
     "metadata": {},
     "output_type": "display_data"
    }
   ],
   "source": [
    "wdi1[\"Life expectancy at birth, total (years) [SP.DYN.LE00.IN]\"].hist()\n",
    "plt.show()"
   ]
  },
  {
   "cell_type": "code",
   "execution_count": null,
   "id": "8a592daf-72ec-4b95-9e8a-0788eefaff84",
   "metadata": {},
   "outputs": [],
   "source": []
  },
  {
   "cell_type": "code",
   "execution_count": null,
   "id": "8b0fe82f-7026-432e-94b7-537b618bb2f8",
   "metadata": {},
   "outputs": [],
   "source": []
  },
  {
   "cell_type": "code",
   "execution_count": null,
   "id": "b70fa761-53b4-4ff4-88b6-3cecdc32782d",
   "metadata": {},
   "outputs": [],
   "source": []
  },
  {
   "cell_type": "code",
   "execution_count": null,
   "id": "64dece75-f51d-4994-b8be-0ba723e027c6",
   "metadata": {},
   "outputs": [],
   "source": []
  },
  {
   "cell_type": "code",
   "execution_count": 41,
   "id": "b99b6c61-0112-4c88-a1ea-1d7e0c11c34b",
   "metadata": {},
   "outputs": [],
   "source": [
    "# Checking for missing values"
   ]
  },
  {
   "cell_type": "code",
   "execution_count": 5,
   "id": "42f1798a-63f6-4134-acac-04470110dae8",
   "metadata": {
    "scrolled": true
   },
   "outputs": [
    {
     "name": "stdout",
     "output_type": "stream",
     "text": [
      "<class 'pandas.core.frame.DataFrame'>\n",
      "RangeIndex: 271 entries, 0 to 270\n",
      "Data columns (total 6 columns):\n",
      " #   Column                                                    Non-Null Count  Dtype \n",
      "---  ------                                                    --------------  ----- \n",
      " 0   Time                                                      268 non-null    object\n",
      " 1   Time Code                                                 266 non-null    object\n",
      " 2   Country Name                                              266 non-null    object\n",
      " 3   Country Code                                              266 non-null    object\n",
      " 4   GDP (constant 2015 US$) [NY.GDP.MKTP.KD]                  266 non-null    object\n",
      " 5   Life expectancy at birth, total (years) [SP.DYN.LE00.IN]  266 non-null    object\n",
      "dtypes: object(6)\n",
      "memory usage: 12.8+ KB\n"
     ]
    }
   ],
   "source": [
    "wdi.info()"
   ]
  },
  {
   "cell_type": "code",
   "execution_count": 6,
   "id": "0728df19-d7fc-44a3-86f1-1660d5abf1c7",
   "metadata": {
    "jupyter": {
     "source_hidden": true
    },
    "scrolled": true
   },
   "outputs": [
    {
     "data": {
      "text/plain": [
       "Time                                                        3\n",
       "Time Code                                                   5\n",
       "Country Name                                                5\n",
       "Country Code                                                5\n",
       "GDP (constant 2015 US$) [NY.GDP.MKTP.KD]                    5\n",
       "Life expectancy at birth, total (years) [SP.DYN.LE00.IN]    5\n",
       "dtype: int64"
      ]
     },
     "execution_count": 6,
     "metadata": {},
     "output_type": "execute_result"
    }
   ],
   "source": [
    "wdi.isna().sum()"
   ]
  },
  {
   "cell_type": "code",
   "execution_count": 9,
   "id": "4a700713-3e85-49fb-a846-5dd7dddb5fcb",
   "metadata": {
    "jupyter": {
     "source_hidden": true
    },
    "scrolled": true
   },
   "outputs": [
    {
     "data": {
      "text/plain": [
       "Time                                                        True\n",
       "Time Code                                                   True\n",
       "Country Name                                                True\n",
       "Country Code                                                True\n",
       "GDP (constant 2015 US$) [NY.GDP.MKTP.KD]                    True\n",
       "Life expectancy at birth, total (years) [SP.DYN.LE00.IN]    True\n",
       "dtype: bool"
      ]
     },
     "execution_count": 9,
     "metadata": {},
     "output_type": "execute_result"
    }
   ],
   "source": [
    "wdi.isna().any()"
   ]
  },
  {
   "cell_type": "code",
   "execution_count": 13,
   "id": "4954bc84-978d-4a24-aa9c-6dfa158e30c5",
   "metadata": {},
   "outputs": [
    {
     "data": {
      "text/plain": [
       "<Axes: >"
      ]
     },
     "execution_count": 13,
     "metadata": {},
     "output_type": "execute_result"
    },
    {
     "data": {
      "image/png": "[encoded data removed]",
      "text/plain": [
       "<Figure size 640x480 with 1 Axes>"
      ]
     },
     "metadata": {},
     "output_type": "display_data"
    }
   ],
   "source": [
    "wdi.isna().sum().plot(kind = 'bar')"
   ]
  },
  {
   "cell_type": "code",
   "execution_count": null,
   "id": "cfa7aeb9-41ac-46ae-b3e3-1b30d1e0eeca",
   "metadata": {},
   "outputs": [],
   "source": []
  },
  {
   "cell_type": "code",
   "execution_count": null,
   "id": "4627499b-909f-43fa-8c8f-0eabc61eec21",
   "metadata": {},
   "outputs": [],
   "source": []
  },
  {
   "cell_type": "code",
   "execution_count": null,
   "id": "3a3bdd11-62cb-4d5a-ad50-147888feee68",
   "metadata": {},
   "outputs": [],
   "source": []
  }
 ],
 "metadata": {
  "kernelspec": {
   "display_name": "Python 3 (ipykernel)",
   "language": "python",
   "name": "python3"
  },
  "language_info": {
   "codemirror_mode": {
    "name": "ipython",
    "version": 3
   },
   "file_extension": ".py",
   "mimetype": "text/x-python",
   "name": "python",
   "nbconvert_exporter": "python",
   "pygments_lexer": "ipython3",
   "version": "3.12.7"
  }
 },
 "nbformat": 4,
 "nbformat_minor": 5
}
